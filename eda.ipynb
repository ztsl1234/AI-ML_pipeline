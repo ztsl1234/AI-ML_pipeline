{
 "cells": [
  {
   "cell_type": "markdown",
   "id": "TFSj4mo4xX5Y",
   "metadata": {
    "id": "TFSj4mo4xX5Y"
   },
   "source": [
    "## Submitted by : Tan Siew Ling NRIC:341F"
   ]
  },
  {
   "cell_type": "markdown",
   "id": "825b41d7",
   "metadata": {},
   "source": [
    "## Problem Statement\n",
    "## Objectives\n",
    "Your objective is to predict the **occurrence of car failure** using the provided dataset for an automotive\n",
    "company to formulate mitigative policies. In your submission, you are to evaluate at least 3 suitable\n",
    "models for predicting car failure."
   ]
  },
  {
   "cell_type": "markdown",
   "id": "c852a6b2",
   "metadata": {},
   "source": [
    "## Binary Classification problem - Failure or No Failure"
   ]
  },
  {
   "cell_type": "markdown",
   "id": "ro-ApgBZxrb4",
   "metadata": {
    "id": "ro-ApgBZxrb4"
   },
   "source": [
    "### Import required packages"
   ]
  },
  {
   "cell_type": "code",
   "execution_count": 1,
   "id": "6abe6c29",
   "metadata": {
    "id": "6abe6c29"
   },
   "outputs": [],
   "source": [
    "import sqlite3\n",
    "import pandas as pd\n",
    "import numpy as np\n",
    "\n",
    "from matplotlib import pyplot as plt\n",
    "import seaborn as sns"
   ]
  },
  {
   "cell_type": "markdown",
   "id": "5e9b0dd1",
   "metadata": {
    "id": "5e9b0dd1"
   },
   "source": [
    "### Load Data\n"
   ]
  },
  {
   "cell_type": "code",
   "execution_count": 2,
   "id": "7a7b25e0",
   "metadata": {
    "colab": {
     "base_uri": "https://localhost:8080/"
    },
    "id": "7a7b25e0",
    "outputId": "e353b0b3-3e7d-400c-e19d-24c9c495565c"
   },
   "outputs": [
    {
     "name": "stdout",
     "output_type": "stream",
     "text": [
      "Connected to SQLite\n"
     ]
    }
   ],
   "source": [
    "# Create your connection.\n",
    "sqliteConnection = sqlite3.connect('data/failure.db')\n",
    "print(\"Connected to SQLite\")\n",
    " \n",
    "df = pd.read_sql_query(\"SELECT * FROM failure\", sqliteConnection)"
   ]
  },
  {
   "cell_type": "markdown",
   "id": "4bc71fd1",
   "metadata": {
    "id": "4bc71fd1"
   },
   "source": [
    "## Task 1 - Exploratory Data Analysis (EDA)\n",
    "  \n"
   ]
  },
  {
   "cell_type": "markdown",
   "id": "1556224e",
   "metadata": {},
   "source": [
    "### (A) Initial Analysis of Data"
   ]
  },
  {
   "cell_type": "code",
   "execution_count": 3,
   "id": "cee9eb67",
   "metadata": {
    "colab": {
     "base_uri": "https://localhost:8080/"
    },
    "id": "cee9eb67",
    "outputId": "aaa05f52-e5b6-4f97-bf15-a88d55748193"
   },
   "outputs": [
    {
     "data": {
      "text/plain": [
       "(10081, 14)"
      ]
     },
     "execution_count": 3,
     "metadata": {},
     "output_type": "execute_result"
    }
   ],
   "source": [
    "df.shape"
   ]
  },
  {
   "cell_type": "code",
   "execution_count": 4,
   "id": "8L2LcrJirv3j",
   "metadata": {
    "colab": {
     "base_uri": "https://localhost:8080/",
     "height": 305
    },
    "id": "8L2LcrJirv3j",
    "outputId": "dc785b2b-c50d-4e6b-d8cf-abb344111f31"
   },
   "outputs": [
    {
     "data": {
      "text/html": [
       "<div>\n",
       "<style scoped>\n",
       "    .dataframe tbody tr th:only-of-type {\n",
       "        vertical-align: middle;\n",
       "    }\n",
       "\n",
       "    .dataframe tbody tr th {\n",
       "        vertical-align: top;\n",
       "    }\n",
       "\n",
       "    .dataframe thead th {\n",
       "        text-align: right;\n",
       "    }\n",
       "</style>\n",
       "<table border=\"1\" class=\"dataframe\">\n",
       "  <thead>\n",
       "    <tr style=\"text-align: right;\">\n",
       "      <th></th>\n",
       "      <th>Car ID</th>\n",
       "      <th>Model</th>\n",
       "      <th>Color</th>\n",
       "      <th>Temperature</th>\n",
       "      <th>RPM</th>\n",
       "      <th>Factory</th>\n",
       "      <th>Usage</th>\n",
       "      <th>Fuel consumption</th>\n",
       "      <th>Membership</th>\n",
       "      <th>Failure A</th>\n",
       "      <th>Failure B</th>\n",
       "      <th>Failure C</th>\n",
       "      <th>Failure D</th>\n",
       "      <th>Failure E</th>\n",
       "    </tr>\n",
       "  </thead>\n",
       "  <tbody>\n",
       "    <tr>\n",
       "      <th>0</th>\n",
       "      <td>137b948a-c99f-4afa-a2a7-9ef65ae51e8f</td>\n",
       "      <td>Model 5, 2022</td>\n",
       "      <td>Blue</td>\n",
       "      <td>110.3 °C</td>\n",
       "      <td>1551</td>\n",
       "      <td>Shang Hai, China</td>\n",
       "      <td>Medium</td>\n",
       "      <td>659.7</td>\n",
       "      <td>Normal</td>\n",
       "      <td>0</td>\n",
       "      <td>0</td>\n",
       "      <td>0</td>\n",
       "      <td>0</td>\n",
       "      <td>0</td>\n",
       "    </tr>\n",
       "    <tr>\n",
       "      <th>1</th>\n",
       "      <td>3395a182-7e76-4fb3-94ba-5163d8f4e6b0</td>\n",
       "      <td>Model 3, 2022</td>\n",
       "      <td>Black</td>\n",
       "      <td>110.4 °C</td>\n",
       "      <td>1408</td>\n",
       "      <td>Shang Hai, China</td>\n",
       "      <td>Medium</td>\n",
       "      <td>705.3</td>\n",
       "      <td>Premium</td>\n",
       "      <td>1</td>\n",
       "      <td>0</td>\n",
       "      <td>0</td>\n",
       "      <td>0</td>\n",
       "      <td>0</td>\n",
       "    </tr>\n",
       "    <tr>\n",
       "      <th>2</th>\n",
       "      <td>8c6a8e5b-d869-4665-b739-819c9e4a2070</td>\n",
       "      <td>Model 3, 2022</td>\n",
       "      <td>Grey</td>\n",
       "      <td>110.3 °C</td>\n",
       "      <td>1498</td>\n",
       "      <td>Shang Hai, China</td>\n",
       "      <td>Low</td>\n",
       "      <td>670.7</td>\n",
       "      <td>Premium</td>\n",
       "      <td>0</td>\n",
       "      <td>0</td>\n",
       "      <td>0</td>\n",
       "      <td>0</td>\n",
       "      <td>0</td>\n",
       "    </tr>\n",
       "    <tr>\n",
       "      <th>3</th>\n",
       "      <td>ff864366-fe5e-409e-9b2f-8fe440d8cc5b</td>\n",
       "      <td>Model 3, 2022</td>\n",
       "      <td>Black</td>\n",
       "      <td>110.4 °C</td>\n",
       "      <td>1433</td>\n",
       "      <td>Berlin, Germany</td>\n",
       "      <td>High</td>\n",
       "      <td>630.6</td>\n",
       "      <td>Premium</td>\n",
       "      <td>1</td>\n",
       "      <td>0</td>\n",
       "      <td>0</td>\n",
       "      <td>0</td>\n",
       "      <td>0</td>\n",
       "    </tr>\n",
       "    <tr>\n",
       "      <th>4</th>\n",
       "      <td>10484506-1be0-4a86-8dbc-b8b2092b93b2</td>\n",
       "      <td>Model 3, 2022</td>\n",
       "      <td>White</td>\n",
       "      <td>230.7 °C</td>\n",
       "      <td>1408</td>\n",
       "      <td>New York, U.S</td>\n",
       "      <td>High</td>\n",
       "      <td>660.9</td>\n",
       "      <td>Normal</td>\n",
       "      <td>0</td>\n",
       "      <td>1</td>\n",
       "      <td>0</td>\n",
       "      <td>0</td>\n",
       "      <td>0</td>\n",
       "    </tr>\n",
       "  </tbody>\n",
       "</table>\n",
       "</div>"
      ],
      "text/plain": [
       "                                 Car ID          Model  Color Temperature  \\\n",
       "0  137b948a-c99f-4afa-a2a7-9ef65ae51e8f  Model 5, 2022   Blue    110.3 °C   \n",
       "1  3395a182-7e76-4fb3-94ba-5163d8f4e6b0  Model 3, 2022  Black    110.4 °C   \n",
       "2  8c6a8e5b-d869-4665-b739-819c9e4a2070  Model 3, 2022   Grey    110.3 °C   \n",
       "3  ff864366-fe5e-409e-9b2f-8fe440d8cc5b  Model 3, 2022  Black    110.4 °C   \n",
       "4  10484506-1be0-4a86-8dbc-b8b2092b93b2  Model 3, 2022  White    230.7 °C   \n",
       "\n",
       "    RPM           Factory   Usage  Fuel consumption Membership  Failure A  \\\n",
       "0  1551  Shang Hai, China  Medium             659.7     Normal          0   \n",
       "1  1408  Shang Hai, China  Medium             705.3    Premium          1   \n",
       "2  1498  Shang Hai, China     Low             670.7    Premium          0   \n",
       "3  1433   Berlin, Germany    High             630.6    Premium          1   \n",
       "4  1408     New York, U.S    High             660.9     Normal          0   \n",
       "\n",
       "   Failure B  Failure C  Failure D  Failure E  \n",
       "0          0          0          0          0  \n",
       "1          0          0          0          0  \n",
       "2          0          0          0          0  \n",
       "3          0          0          0          0  \n",
       "4          1          0          0          0  "
      ]
     },
     "execution_count": 4,
     "metadata": {},
     "output_type": "execute_result"
    }
   ],
   "source": [
    "df.head()"
   ]
  },
  {
   "cell_type": "code",
   "execution_count": 5,
   "id": "c18810df",
   "metadata": {
    "colab": {
     "base_uri": "https://localhost:8080/"
    },
    "id": "c18810df",
    "outputId": "d702bfb7-8515-4643-8433-1e52de8a80ef",
    "scrolled": true
   },
   "outputs": [
    {
     "name": "stdout",
     "output_type": "stream",
     "text": [
      "<class 'pandas.core.frame.DataFrame'>\n",
      "RangeIndex: 10081 entries, 0 to 10080\n",
      "Data columns (total 14 columns):\n",
      " #   Column            Non-Null Count  Dtype  \n",
      "---  ------            --------------  -----  \n",
      " 0   Car ID            10081 non-null  object \n",
      " 1   Model             10081 non-null  object \n",
      " 2   Color             10081 non-null  object \n",
      " 3   Temperature       10081 non-null  object \n",
      " 4   RPM               10081 non-null  int64  \n",
      " 5   Factory           10081 non-null  object \n",
      " 6   Usage             10081 non-null  object \n",
      " 7   Fuel consumption  10081 non-null  float64\n",
      " 8   Membership        9697 non-null   object \n",
      " 9   Failure A         10081 non-null  int64  \n",
      " 10  Failure B         10081 non-null  int64  \n",
      " 11  Failure C         10081 non-null  int64  \n",
      " 12  Failure D         10081 non-null  int64  \n",
      " 13  Failure E         10081 non-null  int64  \n",
      "dtypes: float64(1), int64(6), object(7)\n",
      "memory usage: 1.1+ MB\n"
     ]
    }
   ],
   "source": [
    "df.info()"
   ]
  },
  {
   "cell_type": "markdown",
   "id": "eOt5ZyiInJWZ",
   "metadata": {
    "id": "eOt5ZyiInJWZ"
   },
   "source": [
    "\n",
    "\n",
    "### Observations/Conclusions:\n",
    "(1) There are 10081 car specifications\n",
    "\n",
    "(2) 9 features - 7 strings, 1 integer and 1 float\n",
    "\n",
    "(3) 5 target variables (Failure A,B,C,D,E) \n",
    "- integer data type with value of 1 for \"Failure\" and 0 for \"No Failure\"\n",
    "\n",
    "(4) Missing data : Membership (categorical feature) - 384 cars with no Membership data\n",
    "\n",
    "(5) Temperature feature is a combination of 2 features - temperature value and units.\n",
    "\n",
    "(6) Factory feature is a combination of 2 features -  City and Country where Factory is located\n",
    "\n",
    "(7) Model feature is a combination of 2 features - Model Number and Year\n",
    "\n",
    "### Interpretation and Impact :\n",
    "\n",
    "(1) Can only have 1 target variable - 5 target variables to be combined into one - Failure. \n",
    "\n",
    "- Failure = 1 for occurrence of any of the Failures A,B,C,D or E\n",
    "\n",
    "- Failure = 0 for no occurrence of failure\n",
    "\n",
    "(2) Missing data - to be drop or impute with mean/median/mode\n",
    "\n",
    "(3) Car ID is just an identification for the car and is a useless feature. It should be dropped.\n",
    "\n",
    "(4) Temperature, Model and Factory features -  each feature is combination of 2 features. Need to split these combined feature into the 2 individual features so that these individual features can be considered during model training."
   ]
  },
  {
   "cell_type": "code",
   "execution_count": 6,
   "id": "a735e3a9",
   "metadata": {
    "colab": {
     "base_uri": "https://localhost:8080/",
     "height": 382
    },
    "id": "a735e3a9",
    "outputId": "738aa528-fc78-4e64-b4f0-44d98beaddc9",
    "scrolled": true
   },
   "outputs": [
    {
     "data": {
      "text/html": [
       "<div>\n",
       "<style scoped>\n",
       "    .dataframe tbody tr th:only-of-type {\n",
       "        vertical-align: middle;\n",
       "    }\n",
       "\n",
       "    .dataframe tbody tr th {\n",
       "        vertical-align: top;\n",
       "    }\n",
       "\n",
       "    .dataframe thead th {\n",
       "        text-align: right;\n",
       "    }\n",
       "</style>\n",
       "<table border=\"1\" class=\"dataframe\">\n",
       "  <thead>\n",
       "    <tr style=\"text-align: right;\">\n",
       "      <th></th>\n",
       "      <th>RPM</th>\n",
       "      <th>Fuel consumption</th>\n",
       "      <th>Failure A</th>\n",
       "      <th>Failure B</th>\n",
       "      <th>Failure C</th>\n",
       "      <th>Failure D</th>\n",
       "      <th>Failure E</th>\n",
       "    </tr>\n",
       "  </thead>\n",
       "  <tbody>\n",
       "    <tr>\n",
       "      <th>count</th>\n",
       "      <td>10081.000000</td>\n",
       "      <td>10081.000000</td>\n",
       "      <td>10081.000000</td>\n",
       "      <td>10081.000000</td>\n",
       "      <td>10081.000000</td>\n",
       "      <td>10081.000000</td>\n",
       "      <td>10081.000000</td>\n",
       "    </tr>\n",
       "    <tr>\n",
       "      <th>mean</th>\n",
       "      <td>1470.626823</td>\n",
       "      <td>679.472304</td>\n",
       "      <td>0.025692</td>\n",
       "      <td>0.018550</td>\n",
       "      <td>0.031049</td>\n",
       "      <td>0.024502</td>\n",
       "      <td>0.026386</td>\n",
       "    </tr>\n",
       "    <tr>\n",
       "      <th>std</th>\n",
       "      <td>487.502419</td>\n",
       "      <td>58.486101</td>\n",
       "      <td>0.158222</td>\n",
       "      <td>0.134935</td>\n",
       "      <td>0.173457</td>\n",
       "      <td>0.154608</td>\n",
       "      <td>0.160289</td>\n",
       "    </tr>\n",
       "    <tr>\n",
       "      <th>min</th>\n",
       "      <td>-2636.000000</td>\n",
       "      <td>598.500000</td>\n",
       "      <td>0.000000</td>\n",
       "      <td>0.000000</td>\n",
       "      <td>0.000000</td>\n",
       "      <td>0.000000</td>\n",
       "      <td>0.000000</td>\n",
       "    </tr>\n",
       "    <tr>\n",
       "      <th>25%</th>\n",
       "      <td>1418.000000</td>\n",
       "      <td>638.800000</td>\n",
       "      <td>0.000000</td>\n",
       "      <td>0.000000</td>\n",
       "      <td>0.000000</td>\n",
       "      <td>0.000000</td>\n",
       "      <td>0.000000</td>\n",
       "    </tr>\n",
       "    <tr>\n",
       "      <th>50%</th>\n",
       "      <td>1499.000000</td>\n",
       "      <td>668.500000</td>\n",
       "      <td>0.000000</td>\n",
       "      <td>0.000000</td>\n",
       "      <td>0.000000</td>\n",
       "      <td>0.000000</td>\n",
       "      <td>0.000000</td>\n",
       "    </tr>\n",
       "    <tr>\n",
       "      <th>75%</th>\n",
       "      <td>1609.000000</td>\n",
       "      <td>704.200000</td>\n",
       "      <td>0.000000</td>\n",
       "      <td>0.000000</td>\n",
       "      <td>0.000000</td>\n",
       "      <td>0.000000</td>\n",
       "      <td>0.000000</td>\n",
       "    </tr>\n",
       "    <tr>\n",
       "      <th>max</th>\n",
       "      <td>2886.000000</td>\n",
       "      <td>904.800000</td>\n",
       "      <td>1.000000</td>\n",
       "      <td>1.000000</td>\n",
       "      <td>1.000000</td>\n",
       "      <td>1.000000</td>\n",
       "      <td>1.000000</td>\n",
       "    </tr>\n",
       "  </tbody>\n",
       "</table>\n",
       "</div>"
      ],
      "text/plain": [
       "                RPM  Fuel consumption     Failure A     Failure B  \\\n",
       "count  10081.000000      10081.000000  10081.000000  10081.000000   \n",
       "mean    1470.626823        679.472304      0.025692      0.018550   \n",
       "std      487.502419         58.486101      0.158222      0.134935   \n",
       "min    -2636.000000        598.500000      0.000000      0.000000   \n",
       "25%     1418.000000        638.800000      0.000000      0.000000   \n",
       "50%     1499.000000        668.500000      0.000000      0.000000   \n",
       "75%     1609.000000        704.200000      0.000000      0.000000   \n",
       "max     2886.000000        904.800000      1.000000      1.000000   \n",
       "\n",
       "          Failure C     Failure D     Failure E  \n",
       "count  10081.000000  10081.000000  10081.000000  \n",
       "mean       0.031049      0.024502      0.026386  \n",
       "std        0.173457      0.154608      0.160289  \n",
       "min        0.000000      0.000000      0.000000  \n",
       "25%        0.000000      0.000000      0.000000  \n",
       "50%        0.000000      0.000000      0.000000  \n",
       "75%        0.000000      0.000000      0.000000  \n",
       "max        1.000000      1.000000      1.000000  "
      ]
     },
     "execution_count": 6,
     "metadata": {},
     "output_type": "execute_result"
    }
   ],
   "source": [
    "df.describe()"
   ]
  },
  {
   "cell_type": "markdown",
   "id": "f41e1656",
   "metadata": {},
   "source": [
    "\n",
    "### Observations/Conclusions:\n",
    "(1) features RPM and Fuel consumption have high variability or spread in the data \n",
    "\n",
    "(2) features have very different scales (RPM, Fuel consumption - large range). \n",
    "\n",
    "### Interpretation and Impact :\n",
    "(1) Features with very different scales used in the experiment can distort the results during modelling. We can use feature scaling such as Min-max normalization or Standardization to transform the feature values so that they are on a common scale and still maintain their general distribution. This will usually give better results during modelling\n",
    "\n"
   ]
  },
  {
   "cell_type": "code",
   "execution_count": 7,
   "id": "6dafe91f",
   "metadata": {
    "colab": {
     "base_uri": "https://localhost:8080/",
     "height": 551
    },
    "id": "6dafe91f",
    "outputId": "99d386ee-3296-4f60-8160-04319abbc4a6"
   },
   "outputs": [
    {
     "data": {
      "text/html": [
       "<div>\n",
       "<style scoped>\n",
       "    .dataframe tbody tr th:only-of-type {\n",
       "        vertical-align: middle;\n",
       "    }\n",
       "\n",
       "    .dataframe tbody tr th {\n",
       "        vertical-align: top;\n",
       "    }\n",
       "\n",
       "    .dataframe thead th {\n",
       "        text-align: right;\n",
       "    }\n",
       "</style>\n",
       "<table border=\"1\" class=\"dataframe\">\n",
       "  <thead>\n",
       "    <tr style=\"text-align: right;\">\n",
       "      <th></th>\n",
       "      <th>Missing</th>\n",
       "      <th>%</th>\n",
       "    </tr>\n",
       "  </thead>\n",
       "  <tbody>\n",
       "    <tr>\n",
       "      <th>Membership</th>\n",
       "      <td>384</td>\n",
       "      <td>3.809146</td>\n",
       "    </tr>\n",
       "    <tr>\n",
       "      <th>Car ID</th>\n",
       "      <td>0</td>\n",
       "      <td>0.000000</td>\n",
       "    </tr>\n",
       "    <tr>\n",
       "      <th>Model</th>\n",
       "      <td>0</td>\n",
       "      <td>0.000000</td>\n",
       "    </tr>\n",
       "    <tr>\n",
       "      <th>Color</th>\n",
       "      <td>0</td>\n",
       "      <td>0.000000</td>\n",
       "    </tr>\n",
       "    <tr>\n",
       "      <th>Temperature</th>\n",
       "      <td>0</td>\n",
       "      <td>0.000000</td>\n",
       "    </tr>\n",
       "    <tr>\n",
       "      <th>RPM</th>\n",
       "      <td>0</td>\n",
       "      <td>0.000000</td>\n",
       "    </tr>\n",
       "    <tr>\n",
       "      <th>Factory</th>\n",
       "      <td>0</td>\n",
       "      <td>0.000000</td>\n",
       "    </tr>\n",
       "    <tr>\n",
       "      <th>Usage</th>\n",
       "      <td>0</td>\n",
       "      <td>0.000000</td>\n",
       "    </tr>\n",
       "    <tr>\n",
       "      <th>Fuel consumption</th>\n",
       "      <td>0</td>\n",
       "      <td>0.000000</td>\n",
       "    </tr>\n",
       "    <tr>\n",
       "      <th>Failure A</th>\n",
       "      <td>0</td>\n",
       "      <td>0.000000</td>\n",
       "    </tr>\n",
       "    <tr>\n",
       "      <th>Failure B</th>\n",
       "      <td>0</td>\n",
       "      <td>0.000000</td>\n",
       "    </tr>\n",
       "    <tr>\n",
       "      <th>Failure C</th>\n",
       "      <td>0</td>\n",
       "      <td>0.000000</td>\n",
       "    </tr>\n",
       "    <tr>\n",
       "      <th>Failure D</th>\n",
       "      <td>0</td>\n",
       "      <td>0.000000</td>\n",
       "    </tr>\n",
       "    <tr>\n",
       "      <th>Failure E</th>\n",
       "      <td>0</td>\n",
       "      <td>0.000000</td>\n",
       "    </tr>\n",
       "  </tbody>\n",
       "</table>\n",
       "</div>"
      ],
      "text/plain": [
       "                  Missing         %\n",
       "Membership            384  3.809146\n",
       "Car ID                  0  0.000000\n",
       "Model                   0  0.000000\n",
       "Color                   0  0.000000\n",
       "Temperature             0  0.000000\n",
       "RPM                     0  0.000000\n",
       "Factory                 0  0.000000\n",
       "Usage                   0  0.000000\n",
       "Fuel consumption        0  0.000000\n",
       "Failure A               0  0.000000\n",
       "Failure B               0  0.000000\n",
       "Failure C               0  0.000000\n",
       "Failure D               0  0.000000\n",
       "Failure E               0  0.000000"
      ]
     },
     "execution_count": 7,
     "metadata": {},
     "output_type": "execute_result"
    }
   ],
   "source": [
    "total = df.isnull().sum().sort_values(ascending=False)\n",
    "percent_1 = (df.isnull().sum()/len(df)*100).sort_values(ascending=False)\n",
    "missing_data = pd.concat([total, percent_1], axis=1, keys=['Missing', '%'])\n",
    "missing_data"
   ]
  },
  {
   "cell_type": "markdown",
   "id": "07d4018e",
   "metadata": {},
   "source": [
    "\n",
    "### Observations/Conclusions:\n",
    "(1) Missing data : Membersip - 384 cars (3.81%)\n",
    "\n",
    "### Interpretation and Impact :\n",
    "\n",
    "(1) Missing data - less than 5% => Can be drop.\n",
    "However, I would like to retain it by imputing with mean/median (to be determined later) so that we do not lose any records\n"
   ]
  },
  {
   "cell_type": "markdown",
   "id": "84f557a1",
   "metadata": {},
   "source": [
    "### (B) Check Data Quality"
   ]
  },
  {
   "cell_type": "code",
   "execution_count": 8,
   "id": "tvDCrKryOujq",
   "metadata": {
    "colab": {
     "base_uri": "https://localhost:8080/"
    },
    "id": "tvDCrKryOujq",
    "outputId": "0083b893-b695-4dc4-b027-f073d8d30e08"
   },
   "outputs": [
    {
     "name": "stdout",
     "output_type": "stream",
     "text": [
      "['RPM', 'Fuel consumption', 'Failure A', 'Failure B', 'Failure C', 'Failure D', 'Failure E']\n",
      "['Car ID', 'Model', 'Color', 'Temperature', 'Factory', 'Usage', 'Membership']\n"
     ]
    }
   ],
   "source": [
    "def get_features(data):\n",
    "    # Get list of numeric and categorical features\n",
    "    num_vars=list(data.columns[data.dtypes != \"object\"])\n",
    "    cat_vars=list(data.columns[data.dtypes==\"object\"])\n",
    "    return (cat_vars,num_vars)\n",
    "\n",
    "(categorical_vars,num_vars)=get_features(df)\n",
    "\n",
    "print(num_vars)\n",
    "print(categorical_vars)"
   ]
  },
  {
   "cell_type": "markdown",
   "id": "93dbec25",
   "metadata": {},
   "source": [
    "### (1) Check for Erroneous Value"
   ]
  },
  {
   "cell_type": "markdown",
   "id": "e2b8331a",
   "metadata": {},
   "source": [
    "### Categorical features"
   ]
  },
  {
   "cell_type": "markdown",
   "id": "b334e9d3",
   "metadata": {},
   "source": [
    "### Observations/Conclusions:\n",
    "(1) Missing data : Membersip - 384 cars (3.81%)\n",
    "\n",
    "### Interpretation and Impact :\n",
    "\n",
    "(1) Missing data - less than 5% => Can be drop.\n",
    "However, I would like to retain it by imputing with mean/median (to be determined later) so that we do not lose any records"
   ]
  },
  {
   "cell_type": "code",
   "execution_count": 9,
   "id": "66e2c843",
   "metadata": {},
   "outputs": [
    {
     "name": "stdout",
     "output_type": "stream",
     "text": [
      "======Car ID======\n",
      "Car ID\n",
      "00044e46-1ddc-44b9-9d3c-5d3582827c79    1\n",
      "00077c4b-6463-4cd6-8af0-8b5b6b3c4da4    1\n",
      "000ce8f0-6ffe-47b1-98d8-5fed4297bcb1    1\n",
      "001265b4-bb0a-4db9-a053-3f7de98278ff    1\n",
      "00134611-270c-4049-b4b6-f4158d40c497    1\n",
      "                                       ..\n",
      "fff0c282-f8e3-4bff-a86c-0b5e08473067    1\n",
      "fff0ee19-77b9-4f71-b129-e89b210dc31d    1\n",
      "fff0fe96-e720-4b4d-9876-dba534690433    1\n",
      "fffcbb25-2193-46b1-a96b-fca48131c798    1\n",
      "fffe3d18-7038-49a0-8fb2-4785e5854502    1\n",
      "Length: 10000, dtype: int64\n",
      "======Model======\n",
      "Model\n",
      "Model 3, 2009      1\n",
      "Model 3, 2010     31\n",
      "Model 3, 2011    201\n",
      "Model 3, 2012    564\n",
      "Model 3, 2013    532\n",
      "Model 3, 2014    559\n",
      "Model 3, 2015    529\n",
      "Model 3, 2016    590\n",
      "Model 3, 2017    512\n",
      "Model 3, 2018    546\n",
      "Model 3, 2019    537\n",
      "Model 3, 2020    566\n",
      "Model 3, 2021    564\n",
      "Model 3, 2022    318\n",
      "Model 5, 2009      1\n",
      "Model 5, 2010      7\n",
      "Model 5, 2011     82\n",
      "Model 5, 2012    275\n",
      "Model 5, 2013    265\n",
      "Model 5, 2014    291\n",
      "Model 5, 2015    248\n",
      "Model 5, 2016    291\n",
      "Model 5, 2017    270\n",
      "Model 5, 2018    316\n",
      "Model 5, 2019    245\n",
      "Model 5, 2020    311\n",
      "Model 5, 2021    247\n",
      "Model 5, 2022    170\n",
      "Model 7, 2010      5\n",
      "Model 7, 2011     27\n",
      "Model 7, 2012     86\n",
      "Model 7, 2013     85\n",
      "Model 7, 2014    103\n",
      "Model 7, 2015     92\n",
      "Model 7, 2016     98\n",
      "Model 7, 2017     89\n",
      "Model 7, 2018     96\n",
      "Model 7, 2019     91\n",
      "Model 7, 2020     94\n",
      "Model 7, 2021     85\n",
      "Model 7, 2022     61\n",
      "dtype: int64\n",
      "======Color======\n",
      "Color\n",
      "Black    1062\n",
      "Blue     1135\n",
      "Grey     1092\n",
      "Red      1169\n",
      "White    5623\n",
      "dtype: int64\n",
      "======Temperature======\n",
      "Temperature\n",
      "110.0 °C      3\n",
      "110.1 °C    324\n",
      "110.2 °C    785\n",
      "110.3 °C    582\n",
      "110.4 °C    534\n",
      "           ... \n",
      "266.5 °F     16\n",
      "269.1 °F      6\n",
      "271.9 °F     11\n",
      "274.9 °F      1\n",
      "278.2 °F      1\n",
      "Length: 125, dtype: int64\n",
      "======Factory======\n",
      "Factory\n",
      "Bedok, Germany        30\n",
      "Berlin, Germany     2233\n",
      "New York, U.S       2150\n",
      "Newton, China         44\n",
      "Seng Kang, China     106\n",
      "Shang Hai, China    5518\n",
      "dtype: int64\n",
      "======Usage======\n",
      "Usage\n",
      "High      3559\n",
      "Low       3162\n",
      "Medium    3360\n",
      "dtype: int64\n",
      "======Membership======\n",
      "Membership\n",
      "None       1734\n",
      "Normal     4517\n",
      "Premium    3446\n",
      "dtype: int64\n"
     ]
    }
   ],
   "source": [
    "for feature in categorical_vars:\n",
    "  print(f'''======{feature}======''')\n",
    "  #print(feature)\n",
    "  print(df.groupby([feature]).size())"
   ]
  },
  {
   "cell_type": "code",
   "execution_count": 11,
   "id": "7bd8dca9",
   "metadata": {},
   "outputs": [
    {
     "name": "stdout",
     "output_type": "stream",
     "text": [
      "Model\n"
     ]
    },
    {
     "data": {
      "image/png": "[encoded data removed]",
      "text/plain": [
       "<Figure size 432x288 with 1 Axes>"
      ]
     },
     "metadata": {
      "needs_background": "light"
     },
     "output_type": "display_data"
    },
    {
     "name": "stdout",
     "output_type": "stream",
     "text": [
      "Color\n"
     ]
    },
    {
     "data": {
      "image/png": "[encoded data removed]",
      "text/plain": [
       "<Figure size 432x288 with 1 Axes>"
      ]
     },
     "metadata": {
      "needs_background": "light"
     },
     "output_type": "display_data"
    },
    {
     "name": "stdout",
     "output_type": "stream",
     "text": [
      "Temperature\n"
     ]
    },
    {
     "data": {
      "image/png": "[encoded data removed]",
      "text/plain": [
       "<Figure size 432x288 with 1 Axes>"
      ]
     },
     "metadata": {
      "needs_background": "light"
     },
     "output_type": "display_data"
    },
    {
     "name": "stdout",
     "output_type": "stream",
     "text": [
      "Factory\n"
     ]
    },
    {
     "data": {
      "image/png": "[encoded data removed]",
      "text/plain": [
       "<Figure size 432x288 with 1 Axes>"
      ]
     },
     "metadata": {
      "needs_background": "light"
     },
     "output_type": "display_data"
    },
    {
     "name": "stdout",
     "output_type": "stream",
     "text": [
      "Usage\n"
     ]
    },
    {
     "data": {
      "image/png": "[encoded data removed]",
      "text/plain": [
       "<Figure size 432x288 with 1 Axes>"
      ]
     },
     "metadata": {
      "needs_background": "light"
     },
     "output_type": "display_data"
    },
    {
     "name": "stdout",
     "output_type": "stream",
     "text": [
      "Membership\n"
     ]
    },
    {
     "data": {
      "image/png": "[encoded data removed]",
      "text/plain": [
       "<Figure size 432x288 with 1 Axes>"
      ]
     },
     "metadata": {
      "needs_background": "light"
     },
     "output_type": "display_data"
    }
   ],
   "source": [
    "\n",
    "from matplotlib import pyplot as plt\n",
    "#categorical feature\n",
    "\n",
    "categorical_vars.remove(\"Car ID\")\n",
    "\n",
    "for feature in categorical_vars:\n",
    "  print(feature)\n",
    "  df[feature].hist(bins=20)\n",
    "  plt.show()"
   ]
  },
  {
   "cell_type": "markdown",
   "id": "5624f2fc",
   "metadata": {},
   "source": [
    "\n",
    "### Observations/Conclusions:\n",
    "\n",
    "(1) No erroneous data in the Categorical features except for Temperature\n",
    "\n",
    "(2) Temperature feature include the units °F and °C, hence making it a non-numeric feature. \n",
    "\n",
    "### Interpretation and Impact :\n",
    "\n",
    "(1) Temperature should be a numeric feature. We need to split the Temperature data into Temperature value and Temperature units\n",
    "\n",
    "(2) There is also a mixture of units (Fahrenheit and Celsius) in the Temperature data so the value is not for the same units. \n",
    "We need to convert all the data to one common unit °C using the formula degree = Fahrenheit * -17.22\n"
   ]
  },
  {
   "cell_type": "markdown",
   "id": "b5ed75d3",
   "metadata": {},
   "source": [
    "### numerical features"
   ]
  },
  {
   "cell_type": "code",
   "execution_count": 13,
   "id": "6ff6218e",
   "metadata": {},
   "outputs": [
    {
     "name": "stdout",
     "output_type": "stream",
     "text": [
      "RPM\n"
     ]
    },
    {
     "data": {
      "image/png": "[encoded data removed]",
      "text/plain": [
       "<Figure size 432x288 with 1 Axes>"
      ]
     },
     "metadata": {
      "needs_background": "light"
     },
     "output_type": "display_data"
    },
    {
     "name": "stdout",
     "output_type": "stream",
     "text": [
      "Fuel consumption\n"
     ]
    },
    {
     "data": {
      "image/png": "[encoded data removed]",
      "text/plain": [
       "<Figure size 432x288 with 1 Axes>"
      ]
     },
     "metadata": {
      "needs_background": "light"
     },
     "output_type": "display_data"
    }
   ],
   "source": [
    "\n",
    "#numerical feature\n",
    "num_vars.remove(\"Failure A\")\n",
    "num_vars.remove(\"Failure B\")\n",
    "num_vars.remove(\"Failure C\")\n",
    "num_vars.remove(\"Failure D\")\n",
    "num_vars.remove(\"Failure E\")\n",
    "for feature in num_vars:\n",
    "  print(feature)\n",
    "  df[feature].hist(bins=20)\n",
    "  plt.show()"
   ]
  },
  {
   "cell_type": "markdown",
   "id": "1d255c83",
   "metadata": {},
   "source": [
    "### Observations/Conclusions:\n",
    "\n",
    "(1) No erroneous data in the Numerical features. RPM can have negative values.\n",
    "\n",
    "(2) Skewness : RPM and Fuel Consumption data are skewed to the left and right respectively.\n",
    "\n",
    "(3) Different Range : The above 2 numerical features have very different scales ( RPM (-2000 to 3000), Fuel Consumption (25100 600 to 900).\n",
    "\n",
    "(4) Skewed Data = log transforamtion\n",
    "\n",
    "\n",
    "### Interpretation and Impact :\n",
    "\n",
    "(1) Skewness : Use Log to tranform the data (np.log())\n",
    "\n",
    "(2) Different Range : This will distort the model algorithm as features with big scales may be given higher weightage. Transform the values using normalisation/standardisation so that the features can be on a common scale."
   ]
  },
  {
   "cell_type": "markdown",
   "id": "6fe9cc3e",
   "metadata": {},
   "source": [
    "### (C) Data Preparation for Analysis (Part 1)"
   ]
  },
  {
   "cell_type": "markdown",
   "id": "2a786059",
   "metadata": {},
   "source": [
    "### (1) Data Cleaning -  Combine the 5 Target variables to 1 Target variable\n"
   ]
  },
  {
   "cell_type": "code",
   "execution_count": 14,
   "id": "2dbb8550",
   "metadata": {},
   "outputs": [
    {
     "data": {
      "text/html": [
       "<div>\n",
       "<style scoped>\n",
       "    .dataframe tbody tr th:only-of-type {\n",
       "        vertical-align: middle;\n",
       "    }\n",
       "\n",
       "    .dataframe tbody tr th {\n",
       "        vertical-align: top;\n",
       "    }\n",
       "\n",
       "    .dataframe thead th {\n",
       "        text-align: right;\n",
       "    }\n",
       "</style>\n",
       "<table border=\"1\" class=\"dataframe\">\n",
       "  <thead>\n",
       "    <tr style=\"text-align: right;\">\n",
       "      <th></th>\n",
       "      <th>Car ID</th>\n",
       "      <th>Model</th>\n",
       "      <th>Color</th>\n",
       "      <th>Temperature</th>\n",
       "      <th>RPM</th>\n",
       "      <th>Factory</th>\n",
       "      <th>Usage</th>\n",
       "      <th>Fuel consumption</th>\n",
       "      <th>Membership</th>\n",
       "      <th>Failure</th>\n",
       "    </tr>\n",
       "  </thead>\n",
       "  <tbody>\n",
       "    <tr>\n",
       "      <th>0</th>\n",
       "      <td>137b948a-c99f-4afa-a2a7-9ef65ae51e8f</td>\n",
       "      <td>Model 5, 2022</td>\n",
       "      <td>Blue</td>\n",
       "      <td>110.3 °C</td>\n",
       "      <td>1551</td>\n",
       "      <td>Shang Hai, China</td>\n",
       "      <td>Medium</td>\n",
       "      <td>659.7</td>\n",
       "      <td>Normal</td>\n",
       "      <td>0</td>\n",
       "    </tr>\n",
       "    <tr>\n",
       "      <th>1</th>\n",
       "      <td>3395a182-7e76-4fb3-94ba-5163d8f4e6b0</td>\n",
       "      <td>Model 3, 2022</td>\n",
       "      <td>Black</td>\n",
       "      <td>110.4 °C</td>\n",
       "      <td>1408</td>\n",
       "      <td>Shang Hai, China</td>\n",
       "      <td>Medium</td>\n",
       "      <td>705.3</td>\n",
       "      <td>Premium</td>\n",
       "      <td>1</td>\n",
       "    </tr>\n",
       "    <tr>\n",
       "      <th>2</th>\n",
       "      <td>8c6a8e5b-d869-4665-b739-819c9e4a2070</td>\n",
       "      <td>Model 3, 2022</td>\n",
       "      <td>Grey</td>\n",
       "      <td>110.3 °C</td>\n",
       "      <td>1498</td>\n",
       "      <td>Shang Hai, China</td>\n",
       "      <td>Low</td>\n",
       "      <td>670.7</td>\n",
       "      <td>Premium</td>\n",
       "      <td>0</td>\n",
       "    </tr>\n",
       "    <tr>\n",
       "      <th>3</th>\n",
       "      <td>ff864366-fe5e-409e-9b2f-8fe440d8cc5b</td>\n",
       "      <td>Model 3, 2022</td>\n",
       "      <td>Black</td>\n",
       "      <td>110.4 °C</td>\n",
       "      <td>1433</td>\n",
       "      <td>Berlin, Germany</td>\n",
       "      <td>High</td>\n",
       "      <td>630.6</td>\n",
       "      <td>Premium</td>\n",
       "      <td>1</td>\n",
       "    </tr>\n",
       "    <tr>\n",
       "      <th>4</th>\n",
       "      <td>10484506-1be0-4a86-8dbc-b8b2092b93b2</td>\n",
       "      <td>Model 3, 2022</td>\n",
       "      <td>White</td>\n",
       "      <td>230.7 °C</td>\n",
       "      <td>1408</td>\n",
       "      <td>New York, U.S</td>\n",
       "      <td>High</td>\n",
       "      <td>660.9</td>\n",
       "      <td>Normal</td>\n",
       "      <td>1</td>\n",
       "    </tr>\n",
       "  </tbody>\n",
       "</table>\n",
       "</div>"
      ],
      "text/plain": [
       "                                 Car ID          Model  Color Temperature  \\\n",
       "0  137b948a-c99f-4afa-a2a7-9ef65ae51e8f  Model 5, 2022   Blue    110.3 °C   \n",
       "1  3395a182-7e76-4fb3-94ba-5163d8f4e6b0  Model 3, 2022  Black    110.4 °C   \n",
       "2  8c6a8e5b-d869-4665-b739-819c9e4a2070  Model 3, 2022   Grey    110.3 °C   \n",
       "3  ff864366-fe5e-409e-9b2f-8fe440d8cc5b  Model 3, 2022  Black    110.4 °C   \n",
       "4  10484506-1be0-4a86-8dbc-b8b2092b93b2  Model 3, 2022  White    230.7 °C   \n",
       "\n",
       "    RPM           Factory   Usage  Fuel consumption Membership  Failure  \n",
       "0  1551  Shang Hai, China  Medium             659.7     Normal        0  \n",
       "1  1408  Shang Hai, China  Medium             705.3    Premium        1  \n",
       "2  1498  Shang Hai, China     Low             670.7    Premium        0  \n",
       "3  1433   Berlin, Germany    High             630.6    Premium        1  \n",
       "4  1408     New York, U.S    High             660.9     Normal        1  "
      ]
     },
     "execution_count": 14,
     "metadata": {},
     "output_type": "execute_result"
    }
   ],
   "source": [
    "df[\"Failure\"]=0\n",
    "df.loc[df[\"Failure A\"]==1,[\"Failure\"]]=1\n",
    "df.loc[df[\"Failure B\"]==1,[\"Failure\"]]=1\n",
    "df.loc[df[\"Failure C\"]==1,[\"Failure\"]]=1\n",
    "df.loc[df[\"Failure D\"]==1,[\"Failure\"]]=1\n",
    "df.loc[df[\"Failure E\"]==1,[\"Failure\"]]=1\n",
    "#df.head()\n",
    "#drop original target variables\n",
    "drop_cols=[\"Failure A\",\"Failure B\",\"Failure C\",\"Failure D\",\"Failure E\"]\n",
    "df=df.drop(drop_cols,axis=1)\n",
    "\n",
    "df.head()"
   ]
  },
  {
   "cell_type": "code",
   "execution_count": 15,
   "id": "79c92e4e",
   "metadata": {},
   "outputs": [
    {
     "data": {
      "text/html": [
       "<div>\n",
       "<style scoped>\n",
       "    .dataframe tbody tr th:only-of-type {\n",
       "        vertical-align: middle;\n",
       "    }\n",
       "\n",
       "    .dataframe tbody tr th {\n",
       "        vertical-align: top;\n",
       "    }\n",
       "\n",
       "    .dataframe thead th {\n",
       "        text-align: right;\n",
       "    }\n",
       "</style>\n",
       "<table border=\"1\" class=\"dataframe\">\n",
       "  <thead>\n",
       "    <tr style=\"text-align: right;\">\n",
       "      <th></th>\n",
       "      <th>RPM</th>\n",
       "      <th>Fuel consumption</th>\n",
       "      <th>Failure</th>\n",
       "    </tr>\n",
       "  </thead>\n",
       "  <tbody>\n",
       "    <tr>\n",
       "      <th>count</th>\n",
       "      <td>10081.000000</td>\n",
       "      <td>10081.000000</td>\n",
       "      <td>10081.000000</td>\n",
       "    </tr>\n",
       "    <tr>\n",
       "      <th>mean</th>\n",
       "      <td>1470.626823</td>\n",
       "      <td>679.472304</td>\n",
       "      <td>0.126178</td>\n",
       "    </tr>\n",
       "    <tr>\n",
       "      <th>std</th>\n",
       "      <td>487.502419</td>\n",
       "      <td>58.486101</td>\n",
       "      <td>0.332066</td>\n",
       "    </tr>\n",
       "    <tr>\n",
       "      <th>min</th>\n",
       "      <td>-2636.000000</td>\n",
       "      <td>598.500000</td>\n",
       "      <td>0.000000</td>\n",
       "    </tr>\n",
       "    <tr>\n",
       "      <th>25%</th>\n",
       "      <td>1418.000000</td>\n",
       "      <td>638.800000</td>\n",
       "      <td>0.000000</td>\n",
       "    </tr>\n",
       "    <tr>\n",
       "      <th>50%</th>\n",
       "      <td>1499.000000</td>\n",
       "      <td>668.500000</td>\n",
       "      <td>0.000000</td>\n",
       "    </tr>\n",
       "    <tr>\n",
       "      <th>75%</th>\n",
       "      <td>1609.000000</td>\n",
       "      <td>704.200000</td>\n",
       "      <td>0.000000</td>\n",
       "    </tr>\n",
       "    <tr>\n",
       "      <th>max</th>\n",
       "      <td>2886.000000</td>\n",
       "      <td>904.800000</td>\n",
       "      <td>1.000000</td>\n",
       "    </tr>\n",
       "  </tbody>\n",
       "</table>\n",
       "</div>"
      ],
      "text/plain": [
       "                RPM  Fuel consumption       Failure\n",
       "count  10081.000000      10081.000000  10081.000000\n",
       "mean    1470.626823        679.472304      0.126178\n",
       "std      487.502419         58.486101      0.332066\n",
       "min    -2636.000000        598.500000      0.000000\n",
       "25%     1418.000000        638.800000      0.000000\n",
       "50%     1499.000000        668.500000      0.000000\n",
       "75%     1609.000000        704.200000      0.000000\n",
       "max     2886.000000        904.800000      1.000000"
      ]
     },
     "execution_count": 15,
     "metadata": {},
     "output_type": "execute_result"
    }
   ],
   "source": [
    "df.describe()"
   ]
  },
  {
   "cell_type": "code",
   "execution_count": 16,
   "id": "f38c0cc2",
   "metadata": {},
   "outputs": [
    {
     "name": "stdout",
     "output_type": "stream",
     "text": [
      "<class 'pandas.core.frame.DataFrame'>\n",
      "RangeIndex: 10081 entries, 0 to 10080\n",
      "Data columns (total 10 columns):\n",
      " #   Column            Non-Null Count  Dtype  \n",
      "---  ------            --------------  -----  \n",
      " 0   Car ID            10081 non-null  object \n",
      " 1   Model             10081 non-null  object \n",
      " 2   Color             10081 non-null  object \n",
      " 3   Temperature       10081 non-null  object \n",
      " 4   RPM               10081 non-null  int64  \n",
      " 5   Factory           10081 non-null  object \n",
      " 6   Usage             10081 non-null  object \n",
      " 7   Fuel consumption  10081 non-null  float64\n",
      " 8   Membership        9697 non-null   object \n",
      " 9   Failure           10081 non-null  int64  \n",
      "dtypes: float64(1), int64(2), object(7)\n",
      "memory usage: 787.7+ KB\n"
     ]
    }
   ],
   "source": [
    "df.info()"
   ]
  },
  {
   "cell_type": "markdown",
   "id": "7af199f4",
   "metadata": {},
   "source": [
    "### (2) Feature Engineering - Create new features (Synthetic Features)\n"
   ]
  },
  {
   "cell_type": "markdown",
   "id": "036f3675",
   "metadata": {},
   "source": [
    "### (a) Model feature\n",
    "(1)  Model feature is a combination of 2 features - Model Number and Year\n",
    "- #### Assumption : \n",
    "  Assume that the year is the Year of Manufacture since this information is not given explicitly and it be used to calculate Age of Car which is likely to have correlation to the Car Failure \n",
    "- split the feature into 2 features - Model_num (string/object) and Year_of_Manufacture (integer)\n",
    "\n",
    "(2) Create new feature - Age calculated from the Year of Manufactor. "
   ]
  },
  {
   "cell_type": "code",
   "execution_count": 17,
   "id": "0a5800df",
   "metadata": {},
   "outputs": [
    {
     "name": "stdout",
     "output_type": "stream",
     "text": [
      "2023\n"
     ]
    },
    {
     "data": {
      "text/html": [
       "<div>\n",
       "<style scoped>\n",
       "    .dataframe tbody tr th:only-of-type {\n",
       "        vertical-align: middle;\n",
       "    }\n",
       "\n",
       "    .dataframe tbody tr th {\n",
       "        vertical-align: top;\n",
       "    }\n",
       "\n",
       "    .dataframe thead th {\n",
       "        text-align: right;\n",
       "    }\n",
       "</style>\n",
       "<table border=\"1\" class=\"dataframe\">\n",
       "  <thead>\n",
       "    <tr style=\"text-align: right;\">\n",
       "      <th></th>\n",
       "      <th>Car ID</th>\n",
       "      <th>Color</th>\n",
       "      <th>Temperature</th>\n",
       "      <th>RPM</th>\n",
       "      <th>Factory</th>\n",
       "      <th>Usage</th>\n",
       "      <th>Fuel consumption</th>\n",
       "      <th>Membership</th>\n",
       "      <th>Failure</th>\n",
       "      <th>Model_num</th>\n",
       "      <th>Year_of_Manufacture</th>\n",
       "      <th>Age</th>\n",
       "    </tr>\n",
       "  </thead>\n",
       "  <tbody>\n",
       "    <tr>\n",
       "      <th>0</th>\n",
       "      <td>137b948a-c99f-4afa-a2a7-9ef65ae51e8f</td>\n",
       "      <td>Blue</td>\n",
       "      <td>110.3 °C</td>\n",
       "      <td>1551</td>\n",
       "      <td>Shang Hai, China</td>\n",
       "      <td>Medium</td>\n",
       "      <td>659.7</td>\n",
       "      <td>Normal</td>\n",
       "      <td>0</td>\n",
       "      <td>Model 5</td>\n",
       "      <td>2022</td>\n",
       "      <td>1</td>\n",
       "    </tr>\n",
       "    <tr>\n",
       "      <th>1</th>\n",
       "      <td>3395a182-7e76-4fb3-94ba-5163d8f4e6b0</td>\n",
       "      <td>Black</td>\n",
       "      <td>110.4 °C</td>\n",
       "      <td>1408</td>\n",
       "      <td>Shang Hai, China</td>\n",
       "      <td>Medium</td>\n",
       "      <td>705.3</td>\n",
       "      <td>Premium</td>\n",
       "      <td>1</td>\n",
       "      <td>Model 3</td>\n",
       "      <td>2022</td>\n",
       "      <td>1</td>\n",
       "    </tr>\n",
       "    <tr>\n",
       "      <th>2</th>\n",
       "      <td>8c6a8e5b-d869-4665-b739-819c9e4a2070</td>\n",
       "      <td>Grey</td>\n",
       "      <td>110.3 °C</td>\n",
       "      <td>1498</td>\n",
       "      <td>Shang Hai, China</td>\n",
       "      <td>Low</td>\n",
       "      <td>670.7</td>\n",
       "      <td>Premium</td>\n",
       "      <td>0</td>\n",
       "      <td>Model 3</td>\n",
       "      <td>2022</td>\n",
       "      <td>1</td>\n",
       "    </tr>\n",
       "    <tr>\n",
       "      <th>3</th>\n",
       "      <td>ff864366-fe5e-409e-9b2f-8fe440d8cc5b</td>\n",
       "      <td>Black</td>\n",
       "      <td>110.4 °C</td>\n",
       "      <td>1433</td>\n",
       "      <td>Berlin, Germany</td>\n",
       "      <td>High</td>\n",
       "      <td>630.6</td>\n",
       "      <td>Premium</td>\n",
       "      <td>1</td>\n",
       "      <td>Model 3</td>\n",
       "      <td>2022</td>\n",
       "      <td>1</td>\n",
       "    </tr>\n",
       "    <tr>\n",
       "      <th>4</th>\n",
       "      <td>10484506-1be0-4a86-8dbc-b8b2092b93b2</td>\n",
       "      <td>White</td>\n",
       "      <td>230.7 °C</td>\n",
       "      <td>1408</td>\n",
       "      <td>New York, U.S</td>\n",
       "      <td>High</td>\n",
       "      <td>660.9</td>\n",
       "      <td>Normal</td>\n",
       "      <td>1</td>\n",
       "      <td>Model 3</td>\n",
       "      <td>2022</td>\n",
       "      <td>1</td>\n",
       "    </tr>\n",
       "    <tr>\n",
       "      <th>...</th>\n",
       "      <td>...</td>\n",
       "      <td>...</td>\n",
       "      <td>...</td>\n",
       "      <td>...</td>\n",
       "      <td>...</td>\n",
       "      <td>...</td>\n",
       "      <td>...</td>\n",
       "      <td>...</td>\n",
       "      <td>...</td>\n",
       "      <td>...</td>\n",
       "      <td>...</td>\n",
       "      <td>...</td>\n",
       "    </tr>\n",
       "    <tr>\n",
       "      <th>10076</th>\n",
       "      <td>64921ab7-c024-447a-8651-006a7e8a5e64</td>\n",
       "      <td>White</td>\n",
       "      <td>110.6 °C</td>\n",
       "      <td>1575</td>\n",
       "      <td>Shang Hai, China</td>\n",
       "      <td>Low</td>\n",
       "      <td>728.5</td>\n",
       "      <td>Premium</td>\n",
       "      <td>0</td>\n",
       "      <td>Model 5</td>\n",
       "      <td>2020</td>\n",
       "      <td>3</td>\n",
       "    </tr>\n",
       "    <tr>\n",
       "      <th>10077</th>\n",
       "      <td>246aa846-094d-441a-814a-ecf64d4e3775</td>\n",
       "      <td>White</td>\n",
       "      <td>110.6 °C</td>\n",
       "      <td>1750</td>\n",
       "      <td>Berlin, Germany</td>\n",
       "      <td>Low</td>\n",
       "      <td>698.9</td>\n",
       "      <td>Premium</td>\n",
       "      <td>0</td>\n",
       "      <td>Model 5</td>\n",
       "      <td>2020</td>\n",
       "      <td>3</td>\n",
       "    </tr>\n",
       "    <tr>\n",
       "      <th>10078</th>\n",
       "      <td>0b9c5542-e343-4b7e-a4c9-aad358dbe993</td>\n",
       "      <td>White</td>\n",
       "      <td>110.6 °C</td>\n",
       "      <td>1529</td>\n",
       "      <td>Shang Hai, China</td>\n",
       "      <td>Low</td>\n",
       "      <td>651.5</td>\n",
       "      <td>Normal</td>\n",
       "      <td>0</td>\n",
       "      <td>Model 3</td>\n",
       "      <td>2019</td>\n",
       "      <td>4</td>\n",
       "    </tr>\n",
       "    <tr>\n",
       "      <th>10079</th>\n",
       "      <td>fd5ac6de-3afb-4ad8-b4a9-4bc47b34dd08</td>\n",
       "      <td>Blue</td>\n",
       "      <td>110.6 °C</td>\n",
       "      <td>1523</td>\n",
       "      <td>Berlin, Germany</td>\n",
       "      <td>High</td>\n",
       "      <td>638.8</td>\n",
       "      <td>Premium</td>\n",
       "      <td>0</td>\n",
       "      <td>Model 3</td>\n",
       "      <td>2019</td>\n",
       "      <td>4</td>\n",
       "    </tr>\n",
       "    <tr>\n",
       "      <th>10080</th>\n",
       "      <td>9df4c3f9-efdc-4fa2-bde4-b21d09b936cc</td>\n",
       "      <td>White</td>\n",
       "      <td>110.6 °C</td>\n",
       "      <td>1852</td>\n",
       "      <td>Shang Hai, China</td>\n",
       "      <td>High</td>\n",
       "      <td>603.8</td>\n",
       "      <td>Premium</td>\n",
       "      <td>0</td>\n",
       "      <td>Model 3</td>\n",
       "      <td>2019</td>\n",
       "      <td>4</td>\n",
       "    </tr>\n",
       "  </tbody>\n",
       "</table>\n",
       "<p>10081 rows × 12 columns</p>\n",
       "</div>"
      ],
      "text/plain": [
       "                                     Car ID  Color Temperature   RPM  \\\n",
       "0      137b948a-c99f-4afa-a2a7-9ef65ae51e8f   Blue    110.3 °C  1551   \n",
       "1      3395a182-7e76-4fb3-94ba-5163d8f4e6b0  Black    110.4 °C  1408   \n",
       "2      8c6a8e5b-d869-4665-b739-819c9e4a2070   Grey    110.3 °C  1498   \n",
       "3      ff864366-fe5e-409e-9b2f-8fe440d8cc5b  Black    110.4 °C  1433   \n",
       "4      10484506-1be0-4a86-8dbc-b8b2092b93b2  White    230.7 °C  1408   \n",
       "...                                     ...    ...         ...   ...   \n",
       "10076  64921ab7-c024-447a-8651-006a7e8a5e64  White    110.6 °C  1575   \n",
       "10077  246aa846-094d-441a-814a-ecf64d4e3775  White    110.6 °C  1750   \n",
       "10078  0b9c5542-e343-4b7e-a4c9-aad358dbe993  White    110.6 °C  1529   \n",
       "10079  fd5ac6de-3afb-4ad8-b4a9-4bc47b34dd08   Blue    110.6 °C  1523   \n",
       "10080  9df4c3f9-efdc-4fa2-bde4-b21d09b936cc  White    110.6 °C  1852   \n",
       "\n",
       "                Factory   Usage  Fuel consumption Membership  Failure  \\\n",
       "0      Shang Hai, China  Medium             659.7     Normal        0   \n",
       "1      Shang Hai, China  Medium             705.3    Premium        1   \n",
       "2      Shang Hai, China     Low             670.7    Premium        0   \n",
       "3       Berlin, Germany    High             630.6    Premium        1   \n",
       "4         New York, U.S    High             660.9     Normal        1   \n",
       "...                 ...     ...               ...        ...      ...   \n",
       "10076  Shang Hai, China     Low             728.5    Premium        0   \n",
       "10077   Berlin, Germany     Low             698.9    Premium        0   \n",
       "10078  Shang Hai, China     Low             651.5     Normal        0   \n",
       "10079   Berlin, Germany    High             638.8    Premium        0   \n",
       "10080  Shang Hai, China    High             603.8    Premium        0   \n",
       "\n",
       "      Model_num  Year_of_Manufacture  Age  \n",
       "0       Model 5                 2022    1  \n",
       "1       Model 3                 2022    1  \n",
       "2       Model 3                 2022    1  \n",
       "3       Model 3                 2022    1  \n",
       "4       Model 3                 2022    1  \n",
       "...         ...                  ...  ...  \n",
       "10076   Model 5                 2020    3  \n",
       "10077   Model 5                 2020    3  \n",
       "10078   Model 3                 2019    4  \n",
       "10079   Model 3                 2019    4  \n",
       "10080   Model 3                 2019    4  \n",
       "\n",
       "[10081 rows x 12 columns]"
      ]
     },
     "execution_count": 17,
     "metadata": {},
     "output_type": "execute_result"
    }
   ],
   "source": [
    "import datetime\n",
    "\n",
    "current_year=datetime.datetime.now().year\n",
    "print(current_year)\n",
    "\n",
    "df[[\"Model_num\",\"Year_of_Manufacture\"]]= df[\"Model\"].str.split(\",\",expand=True)\n",
    "df[\"Year_of_Manufacture\"]=df[\"Year_of_Manufacture\"].astype(int)\n",
    "\n",
    "df[\"Age\"]= current_year - df[\"Year_of_Manufacture\"]\n",
    "\n",
    "df=df.drop(\"Model\",axis=1)\n",
    "\n",
    "df"
   ]
  },
  {
   "cell_type": "markdown",
   "id": "f213b3e8",
   "metadata": {},
   "source": [
    "### (b) Factory feature\n",
    "(1)  Factory feature is a combination of 2 features - Factory City and Factory Country\n",
    "- #### Assumption : \n",
    "- split the feature into 2 features - Factory_City (string/object) and Factory_Country (string/object) \n"
   ]
  },
  {
   "cell_type": "code",
   "execution_count": 18,
   "id": "9e8d015f",
   "metadata": {},
   "outputs": [
    {
     "data": {
      "text/html": [
       "<div>\n",
       "<style scoped>\n",
       "    .dataframe tbody tr th:only-of-type {\n",
       "        vertical-align: middle;\n",
       "    }\n",
       "\n",
       "    .dataframe tbody tr th {\n",
       "        vertical-align: top;\n",
       "    }\n",
       "\n",
       "    .dataframe thead th {\n",
       "        text-align: right;\n",
       "    }\n",
       "</style>\n",
       "<table border=\"1\" class=\"dataframe\">\n",
       "  <thead>\n",
       "    <tr style=\"text-align: right;\">\n",
       "      <th></th>\n",
       "      <th>Car ID</th>\n",
       "      <th>Color</th>\n",
       "      <th>Temperature</th>\n",
       "      <th>RPM</th>\n",
       "      <th>Usage</th>\n",
       "      <th>Fuel consumption</th>\n",
       "      <th>Membership</th>\n",
       "      <th>Failure</th>\n",
       "      <th>Model_num</th>\n",
       "      <th>Year_of_Manufacture</th>\n",
       "      <th>Age</th>\n",
       "      <th>Factory_City</th>\n",
       "      <th>Factory_Country</th>\n",
       "    </tr>\n",
       "  </thead>\n",
       "  <tbody>\n",
       "    <tr>\n",
       "      <th>0</th>\n",
       "      <td>137b948a-c99f-4afa-a2a7-9ef65ae51e8f</td>\n",
       "      <td>Blue</td>\n",
       "      <td>110.3 °C</td>\n",
       "      <td>1551</td>\n",
       "      <td>Medium</td>\n",
       "      <td>659.7</td>\n",
       "      <td>Normal</td>\n",
       "      <td>0</td>\n",
       "      <td>Model 5</td>\n",
       "      <td>2022</td>\n",
       "      <td>1</td>\n",
       "      <td>Shang Hai</td>\n",
       "      <td>China</td>\n",
       "    </tr>\n",
       "    <tr>\n",
       "      <th>1</th>\n",
       "      <td>3395a182-7e76-4fb3-94ba-5163d8f4e6b0</td>\n",
       "      <td>Black</td>\n",
       "      <td>110.4 °C</td>\n",
       "      <td>1408</td>\n",
       "      <td>Medium</td>\n",
       "      <td>705.3</td>\n",
       "      <td>Premium</td>\n",
       "      <td>1</td>\n",
       "      <td>Model 3</td>\n",
       "      <td>2022</td>\n",
       "      <td>1</td>\n",
       "      <td>Shang Hai</td>\n",
       "      <td>China</td>\n",
       "    </tr>\n",
       "    <tr>\n",
       "      <th>2</th>\n",
       "      <td>8c6a8e5b-d869-4665-b739-819c9e4a2070</td>\n",
       "      <td>Grey</td>\n",
       "      <td>110.3 °C</td>\n",
       "      <td>1498</td>\n",
       "      <td>Low</td>\n",
       "      <td>670.7</td>\n",
       "      <td>Premium</td>\n",
       "      <td>0</td>\n",
       "      <td>Model 3</td>\n",
       "      <td>2022</td>\n",
       "      <td>1</td>\n",
       "      <td>Shang Hai</td>\n",
       "      <td>China</td>\n",
       "    </tr>\n",
       "    <tr>\n",
       "      <th>3</th>\n",
       "      <td>ff864366-fe5e-409e-9b2f-8fe440d8cc5b</td>\n",
       "      <td>Black</td>\n",
       "      <td>110.4 °C</td>\n",
       "      <td>1433</td>\n",
       "      <td>High</td>\n",
       "      <td>630.6</td>\n",
       "      <td>Premium</td>\n",
       "      <td>1</td>\n",
       "      <td>Model 3</td>\n",
       "      <td>2022</td>\n",
       "      <td>1</td>\n",
       "      <td>Berlin</td>\n",
       "      <td>Germany</td>\n",
       "    </tr>\n",
       "    <tr>\n",
       "      <th>4</th>\n",
       "      <td>10484506-1be0-4a86-8dbc-b8b2092b93b2</td>\n",
       "      <td>White</td>\n",
       "      <td>230.7 °C</td>\n",
       "      <td>1408</td>\n",
       "      <td>High</td>\n",
       "      <td>660.9</td>\n",
       "      <td>Normal</td>\n",
       "      <td>1</td>\n",
       "      <td>Model 3</td>\n",
       "      <td>2022</td>\n",
       "      <td>1</td>\n",
       "      <td>New York</td>\n",
       "      <td>U.S</td>\n",
       "    </tr>\n",
       "    <tr>\n",
       "      <th>...</th>\n",
       "      <td>...</td>\n",
       "      <td>...</td>\n",
       "      <td>...</td>\n",
       "      <td>...</td>\n",
       "      <td>...</td>\n",
       "      <td>...</td>\n",
       "      <td>...</td>\n",
       "      <td>...</td>\n",
       "      <td>...</td>\n",
       "      <td>...</td>\n",
       "      <td>...</td>\n",
       "      <td>...</td>\n",
       "      <td>...</td>\n",
       "    </tr>\n",
       "    <tr>\n",
       "      <th>10076</th>\n",
       "      <td>64921ab7-c024-447a-8651-006a7e8a5e64</td>\n",
       "      <td>White</td>\n",
       "      <td>110.6 °C</td>\n",
       "      <td>1575</td>\n",
       "      <td>Low</td>\n",
       "      <td>728.5</td>\n",
       "      <td>Premium</td>\n",
       "      <td>0</td>\n",
       "      <td>Model 5</td>\n",
       "      <td>2020</td>\n",
       "      <td>3</td>\n",
       "      <td>Shang Hai</td>\n",
       "      <td>China</td>\n",
       "    </tr>\n",
       "    <tr>\n",
       "      <th>10077</th>\n",
       "      <td>246aa846-094d-441a-814a-ecf64d4e3775</td>\n",
       "      <td>White</td>\n",
       "      <td>110.6 °C</td>\n",
       "      <td>1750</td>\n",
       "      <td>Low</td>\n",
       "      <td>698.9</td>\n",
       "      <td>Premium</td>\n",
       "      <td>0</td>\n",
       "      <td>Model 5</td>\n",
       "      <td>2020</td>\n",
       "      <td>3</td>\n",
       "      <td>Berlin</td>\n",
       "      <td>Germany</td>\n",
       "    </tr>\n",
       "    <tr>\n",
       "      <th>10078</th>\n",
       "      <td>0b9c5542-e343-4b7e-a4c9-aad358dbe993</td>\n",
       "      <td>White</td>\n",
       "      <td>110.6 °C</td>\n",
       "      <td>1529</td>\n",
       "      <td>Low</td>\n",
       "      <td>651.5</td>\n",
       "      <td>Normal</td>\n",
       "      <td>0</td>\n",
       "      <td>Model 3</td>\n",
       "      <td>2019</td>\n",
       "      <td>4</td>\n",
       "      <td>Shang Hai</td>\n",
       "      <td>China</td>\n",
       "    </tr>\n",
       "    <tr>\n",
       "      <th>10079</th>\n",
       "      <td>fd5ac6de-3afb-4ad8-b4a9-4bc47b34dd08</td>\n",
       "      <td>Blue</td>\n",
       "      <td>110.6 °C</td>\n",
       "      <td>1523</td>\n",
       "      <td>High</td>\n",
       "      <td>638.8</td>\n",
       "      <td>Premium</td>\n",
       "      <td>0</td>\n",
       "      <td>Model 3</td>\n",
       "      <td>2019</td>\n",
       "      <td>4</td>\n",
       "      <td>Berlin</td>\n",
       "      <td>Germany</td>\n",
       "    </tr>\n",
       "    <tr>\n",
       "      <th>10080</th>\n",
       "      <td>9df4c3f9-efdc-4fa2-bde4-b21d09b936cc</td>\n",
       "      <td>White</td>\n",
       "      <td>110.6 °C</td>\n",
       "      <td>1852</td>\n",
       "      <td>High</td>\n",
       "      <td>603.8</td>\n",
       "      <td>Premium</td>\n",
       "      <td>0</td>\n",
       "      <td>Model 3</td>\n",
       "      <td>2019</td>\n",
       "      <td>4</td>\n",
       "      <td>Shang Hai</td>\n",
       "      <td>China</td>\n",
       "    </tr>\n",
       "  </tbody>\n",
       "</table>\n",
       "<p>10081 rows × 13 columns</p>\n",
       "</div>"
      ],
      "text/plain": [
       "                                     Car ID  Color Temperature   RPM   Usage  \\\n",
       "0      137b948a-c99f-4afa-a2a7-9ef65ae51e8f   Blue    110.3 °C  1551  Medium   \n",
       "1      3395a182-7e76-4fb3-94ba-5163d8f4e6b0  Black    110.4 °C  1408  Medium   \n",
       "2      8c6a8e5b-d869-4665-b739-819c9e4a2070   Grey    110.3 °C  1498     Low   \n",
       "3      ff864366-fe5e-409e-9b2f-8fe440d8cc5b  Black    110.4 °C  1433    High   \n",
       "4      10484506-1be0-4a86-8dbc-b8b2092b93b2  White    230.7 °C  1408    High   \n",
       "...                                     ...    ...         ...   ...     ...   \n",
       "10076  64921ab7-c024-447a-8651-006a7e8a5e64  White    110.6 °C  1575     Low   \n",
       "10077  246aa846-094d-441a-814a-ecf64d4e3775  White    110.6 °C  1750     Low   \n",
       "10078  0b9c5542-e343-4b7e-a4c9-aad358dbe993  White    110.6 °C  1529     Low   \n",
       "10079  fd5ac6de-3afb-4ad8-b4a9-4bc47b34dd08   Blue    110.6 °C  1523    High   \n",
       "10080  9df4c3f9-efdc-4fa2-bde4-b21d09b936cc  White    110.6 °C  1852    High   \n",
       "\n",
       "       Fuel consumption Membership  Failure Model_num  Year_of_Manufacture  \\\n",
       "0                 659.7     Normal        0   Model 5                 2022   \n",
       "1                 705.3    Premium        1   Model 3                 2022   \n",
       "2                 670.7    Premium        0   Model 3                 2022   \n",
       "3                 630.6    Premium        1   Model 3                 2022   \n",
       "4                 660.9     Normal        1   Model 3                 2022   \n",
       "...                 ...        ...      ...       ...                  ...   \n",
       "10076             728.5    Premium        0   Model 5                 2020   \n",
       "10077             698.9    Premium        0   Model 5                 2020   \n",
       "10078             651.5     Normal        0   Model 3                 2019   \n",
       "10079             638.8    Premium        0   Model 3                 2019   \n",
       "10080             603.8    Premium        0   Model 3                 2019   \n",
       "\n",
       "       Age Factory_City Factory_Country  \n",
       "0        1    Shang Hai           China  \n",
       "1        1    Shang Hai           China  \n",
       "2        1    Shang Hai           China  \n",
       "3        1       Berlin         Germany  \n",
       "4        1     New York             U.S  \n",
       "...    ...          ...             ...  \n",
       "10076    3    Shang Hai           China  \n",
       "10077    3       Berlin         Germany  \n",
       "10078    4    Shang Hai           China  \n",
       "10079    4       Berlin         Germany  \n",
       "10080    4    Shang Hai           China  \n",
       "\n",
       "[10081 rows x 13 columns]"
      ]
     },
     "execution_count": 18,
     "metadata": {},
     "output_type": "execute_result"
    }
   ],
   "source": [
    "df[[\"Factory_City\",\"Factory_Country\"]]= df[\"Factory\"].str.split(\",\",expand=True)\n",
    "\n",
    "df=df.drop(\"Factory\",axis=1)\n",
    "\n",
    "df"
   ]
  },
  {
   "cell_type": "markdown",
   "id": "0d39f474",
   "metadata": {},
   "source": [
    "### (c) Temperature feature\n",
    "(1)  Temperature feature is a combination of 2 features - temperature value and units.\n",
    "- split the feature into 2 features - Temp_value (float) an Temp_units (string/object)\n",
    "\n",
    "(2) Mixture of values in Fahrenheit and Celsius\n",
    "- convert Fahrenheit to Celsius using formula : Celsius =(Fahrenheit − 32) × 5/9 so that all temperature value will be in Celsius\n",
    "\n"
   ]
  },
  {
   "cell_type": "markdown",
   "id": "c1002279",
   "metadata": {},
   "source": [
    "#### Split the temperature value into 2 features - Temp_value (float) and Temp_units (string/object)"
   ]
  },
  {
   "cell_type": "code",
   "execution_count": 19,
   "id": "ecf515bd",
   "metadata": {},
   "outputs": [
    {
     "data": {
      "text/html": [
       "<div>\n",
       "<style scoped>\n",
       "    .dataframe tbody tr th:only-of-type {\n",
       "        vertical-align: middle;\n",
       "    }\n",
       "\n",
       "    .dataframe tbody tr th {\n",
       "        vertical-align: top;\n",
       "    }\n",
       "\n",
       "    .dataframe thead th {\n",
       "        text-align: right;\n",
       "    }\n",
       "</style>\n",
       "<table border=\"1\" class=\"dataframe\">\n",
       "  <thead>\n",
       "    <tr style=\"text-align: right;\">\n",
       "      <th></th>\n",
       "      <th>Car ID</th>\n",
       "      <th>Color</th>\n",
       "      <th>Temperature</th>\n",
       "      <th>RPM</th>\n",
       "      <th>Usage</th>\n",
       "      <th>Fuel consumption</th>\n",
       "      <th>Membership</th>\n",
       "      <th>Failure</th>\n",
       "      <th>Model_num</th>\n",
       "      <th>Year_of_Manufacture</th>\n",
       "      <th>Age</th>\n",
       "      <th>Factory_City</th>\n",
       "      <th>Factory_Country</th>\n",
       "      <th>Temperature_value</th>\n",
       "      <th>Temperature_units</th>\n",
       "    </tr>\n",
       "  </thead>\n",
       "  <tbody>\n",
       "    <tr>\n",
       "      <th>0</th>\n",
       "      <td>137b948a-c99f-4afa-a2a7-9ef65ae51e8f</td>\n",
       "      <td>Blue</td>\n",
       "      <td>110.3 °C</td>\n",
       "      <td>1551</td>\n",
       "      <td>Medium</td>\n",
       "      <td>659.7</td>\n",
       "      <td>Normal</td>\n",
       "      <td>0</td>\n",
       "      <td>Model 5</td>\n",
       "      <td>2022</td>\n",
       "      <td>1</td>\n",
       "      <td>Shang Hai</td>\n",
       "      <td>China</td>\n",
       "      <td>110.3</td>\n",
       "      <td>°C</td>\n",
       "    </tr>\n",
       "    <tr>\n",
       "      <th>1</th>\n",
       "      <td>3395a182-7e76-4fb3-94ba-5163d8f4e6b0</td>\n",
       "      <td>Black</td>\n",
       "      <td>110.4 °C</td>\n",
       "      <td>1408</td>\n",
       "      <td>Medium</td>\n",
       "      <td>705.3</td>\n",
       "      <td>Premium</td>\n",
       "      <td>1</td>\n",
       "      <td>Model 3</td>\n",
       "      <td>2022</td>\n",
       "      <td>1</td>\n",
       "      <td>Shang Hai</td>\n",
       "      <td>China</td>\n",
       "      <td>110.4</td>\n",
       "      <td>°C</td>\n",
       "    </tr>\n",
       "    <tr>\n",
       "      <th>2</th>\n",
       "      <td>8c6a8e5b-d869-4665-b739-819c9e4a2070</td>\n",
       "      <td>Grey</td>\n",
       "      <td>110.3 °C</td>\n",
       "      <td>1498</td>\n",
       "      <td>Low</td>\n",
       "      <td>670.7</td>\n",
       "      <td>Premium</td>\n",
       "      <td>0</td>\n",
       "      <td>Model 3</td>\n",
       "      <td>2022</td>\n",
       "      <td>1</td>\n",
       "      <td>Shang Hai</td>\n",
       "      <td>China</td>\n",
       "      <td>110.3</td>\n",
       "      <td>°C</td>\n",
       "    </tr>\n",
       "    <tr>\n",
       "      <th>3</th>\n",
       "      <td>ff864366-fe5e-409e-9b2f-8fe440d8cc5b</td>\n",
       "      <td>Black</td>\n",
       "      <td>110.4 °C</td>\n",
       "      <td>1433</td>\n",
       "      <td>High</td>\n",
       "      <td>630.6</td>\n",
       "      <td>Premium</td>\n",
       "      <td>1</td>\n",
       "      <td>Model 3</td>\n",
       "      <td>2022</td>\n",
       "      <td>1</td>\n",
       "      <td>Berlin</td>\n",
       "      <td>Germany</td>\n",
       "      <td>110.4</td>\n",
       "      <td>°C</td>\n",
       "    </tr>\n",
       "    <tr>\n",
       "      <th>4</th>\n",
       "      <td>10484506-1be0-4a86-8dbc-b8b2092b93b2</td>\n",
       "      <td>White</td>\n",
       "      <td>230.7 °C</td>\n",
       "      <td>1408</td>\n",
       "      <td>High</td>\n",
       "      <td>660.9</td>\n",
       "      <td>Normal</td>\n",
       "      <td>1</td>\n",
       "      <td>Model 3</td>\n",
       "      <td>2022</td>\n",
       "      <td>1</td>\n",
       "      <td>New York</td>\n",
       "      <td>U.S</td>\n",
       "      <td>230.7</td>\n",
       "      <td>°C</td>\n",
       "    </tr>\n",
       "  </tbody>\n",
       "</table>\n",
       "</div>"
      ],
      "text/plain": [
       "                                 Car ID  Color Temperature   RPM   Usage  \\\n",
       "0  137b948a-c99f-4afa-a2a7-9ef65ae51e8f   Blue    110.3 °C  1551  Medium   \n",
       "1  3395a182-7e76-4fb3-94ba-5163d8f4e6b0  Black    110.4 °C  1408  Medium   \n",
       "2  8c6a8e5b-d869-4665-b739-819c9e4a2070   Grey    110.3 °C  1498     Low   \n",
       "3  ff864366-fe5e-409e-9b2f-8fe440d8cc5b  Black    110.4 °C  1433    High   \n",
       "4  10484506-1be0-4a86-8dbc-b8b2092b93b2  White    230.7 °C  1408    High   \n",
       "\n",
       "   Fuel consumption Membership  Failure Model_num  Year_of_Manufacture  Age  \\\n",
       "0             659.7     Normal        0   Model 5                 2022    1   \n",
       "1             705.3    Premium        1   Model 3                 2022    1   \n",
       "2             670.7    Premium        0   Model 3                 2022    1   \n",
       "3             630.6    Premium        1   Model 3                 2022    1   \n",
       "4             660.9     Normal        1   Model 3                 2022    1   \n",
       "\n",
       "  Factory_City Factory_Country Temperature_value Temperature_units  \n",
       "0    Shang Hai           China             110.3                °C  \n",
       "1    Shang Hai           China             110.4                °C  \n",
       "2    Shang Hai           China             110.3                °C  \n",
       "3       Berlin         Germany             110.4                °C  \n",
       "4     New York             U.S             230.7                °C  "
      ]
     },
     "execution_count": 19,
     "metadata": {},
     "output_type": "execute_result"
    }
   ],
   "source": [
    "df[[\"Temperature_value\",\"Temperature_units\"]]=df[\"Temperature\"].str.split(\" \",expand=True)\n",
    "\n",
    "df.head()\n"
   ]
  },
  {
   "cell_type": "markdown",
   "id": "6610f29b",
   "metadata": {},
   "source": [
    "#### Convert Fahrenheit to Celsius"
   ]
  },
  {
   "cell_type": "code",
   "execution_count": 20,
   "id": "f7f02459",
   "metadata": {},
   "outputs": [
    {
     "name": "stderr",
     "output_type": "stream",
     "text": [
      "C:\\Users\\admin\\anaconda3\\lib\\site-packages\\numpy\\core\\fromnumeric.py:3162: VisibleDeprecationWarning: Creating an ndarray from ragged nested sequences (which is a list-or-tuple of lists-or-tuples-or ndarrays with different lengths or shapes) is deprecated. If you meant to do this, you must specify 'dtype=object' when creating the ndarray.\n",
      "  return asarray(a).ndim\n"
     ]
    },
    {
     "data": {
      "text/html": [
       "<div>\n",
       "<style scoped>\n",
       "    .dataframe tbody tr th:only-of-type {\n",
       "        vertical-align: middle;\n",
       "    }\n",
       "\n",
       "    .dataframe tbody tr th {\n",
       "        vertical-align: top;\n",
       "    }\n",
       "\n",
       "    .dataframe thead th {\n",
       "        text-align: right;\n",
       "    }\n",
       "</style>\n",
       "<table border=\"1\" class=\"dataframe\">\n",
       "  <thead>\n",
       "    <tr style=\"text-align: right;\">\n",
       "      <th></th>\n",
       "      <th>Car ID</th>\n",
       "      <th>Color</th>\n",
       "      <th>Temperature</th>\n",
       "      <th>RPM</th>\n",
       "      <th>Usage</th>\n",
       "      <th>Fuel consumption</th>\n",
       "      <th>Membership</th>\n",
       "      <th>Failure</th>\n",
       "      <th>Model_num</th>\n",
       "      <th>Year_of_Manufacture</th>\n",
       "      <th>Age</th>\n",
       "      <th>Factory_City</th>\n",
       "      <th>Factory_Country</th>\n",
       "      <th>Temperature_value</th>\n",
       "      <th>Temperature_units</th>\n",
       "    </tr>\n",
       "  </thead>\n",
       "  <tbody>\n",
       "    <tr>\n",
       "      <th>0</th>\n",
       "      <td>137b948a-c99f-4afa-a2a7-9ef65ae51e8f</td>\n",
       "      <td>Blue</td>\n",
       "      <td>110.3 °C</td>\n",
       "      <td>1551</td>\n",
       "      <td>Medium</td>\n",
       "      <td>659.7</td>\n",
       "      <td>Normal</td>\n",
       "      <td>0</td>\n",
       "      <td>Model 5</td>\n",
       "      <td>2022</td>\n",
       "      <td>1</td>\n",
       "      <td>Shang Hai</td>\n",
       "      <td>China</td>\n",
       "      <td>43.500000</td>\n",
       "      <td>°C</td>\n",
       "    </tr>\n",
       "    <tr>\n",
       "      <th>1</th>\n",
       "      <td>3395a182-7e76-4fb3-94ba-5163d8f4e6b0</td>\n",
       "      <td>Black</td>\n",
       "      <td>110.4 °C</td>\n",
       "      <td>1408</td>\n",
       "      <td>Medium</td>\n",
       "      <td>705.3</td>\n",
       "      <td>Premium</td>\n",
       "      <td>1</td>\n",
       "      <td>Model 3</td>\n",
       "      <td>2022</td>\n",
       "      <td>1</td>\n",
       "      <td>Shang Hai</td>\n",
       "      <td>China</td>\n",
       "      <td>43.555556</td>\n",
       "      <td>°C</td>\n",
       "    </tr>\n",
       "    <tr>\n",
       "      <th>2</th>\n",
       "      <td>8c6a8e5b-d869-4665-b739-819c9e4a2070</td>\n",
       "      <td>Grey</td>\n",
       "      <td>110.3 °C</td>\n",
       "      <td>1498</td>\n",
       "      <td>Low</td>\n",
       "      <td>670.7</td>\n",
       "      <td>Premium</td>\n",
       "      <td>0</td>\n",
       "      <td>Model 3</td>\n",
       "      <td>2022</td>\n",
       "      <td>1</td>\n",
       "      <td>Shang Hai</td>\n",
       "      <td>China</td>\n",
       "      <td>43.500000</td>\n",
       "      <td>°C</td>\n",
       "    </tr>\n",
       "    <tr>\n",
       "      <th>3</th>\n",
       "      <td>ff864366-fe5e-409e-9b2f-8fe440d8cc5b</td>\n",
       "      <td>Black</td>\n",
       "      <td>110.4 °C</td>\n",
       "      <td>1433</td>\n",
       "      <td>High</td>\n",
       "      <td>630.6</td>\n",
       "      <td>Premium</td>\n",
       "      <td>1</td>\n",
       "      <td>Model 3</td>\n",
       "      <td>2022</td>\n",
       "      <td>1</td>\n",
       "      <td>Berlin</td>\n",
       "      <td>Germany</td>\n",
       "      <td>43.555556</td>\n",
       "      <td>°C</td>\n",
       "    </tr>\n",
       "    <tr>\n",
       "      <th>4</th>\n",
       "      <td>10484506-1be0-4a86-8dbc-b8b2092b93b2</td>\n",
       "      <td>White</td>\n",
       "      <td>230.7 °C</td>\n",
       "      <td>1408</td>\n",
       "      <td>High</td>\n",
       "      <td>660.9</td>\n",
       "      <td>Normal</td>\n",
       "      <td>1</td>\n",
       "      <td>Model 3</td>\n",
       "      <td>2022</td>\n",
       "      <td>1</td>\n",
       "      <td>New York</td>\n",
       "      <td>U.S</td>\n",
       "      <td>110.388889</td>\n",
       "      <td>°C</td>\n",
       "    </tr>\n",
       "  </tbody>\n",
       "</table>\n",
       "</div>"
      ],
      "text/plain": [
       "                                 Car ID  Color Temperature   RPM   Usage  \\\n",
       "0  137b948a-c99f-4afa-a2a7-9ef65ae51e8f   Blue    110.3 °C  1551  Medium   \n",
       "1  3395a182-7e76-4fb3-94ba-5163d8f4e6b0  Black    110.4 °C  1408  Medium   \n",
       "2  8c6a8e5b-d869-4665-b739-819c9e4a2070   Grey    110.3 °C  1498     Low   \n",
       "3  ff864366-fe5e-409e-9b2f-8fe440d8cc5b  Black    110.4 °C  1433    High   \n",
       "4  10484506-1be0-4a86-8dbc-b8b2092b93b2  White    230.7 °C  1408    High   \n",
       "\n",
       "   Fuel consumption Membership  Failure Model_num  Year_of_Manufacture  Age  \\\n",
       "0             659.7     Normal        0   Model 5                 2022    1   \n",
       "1             705.3    Premium        1   Model 3                 2022    1   \n",
       "2             670.7    Premium        0   Model 3                 2022    1   \n",
       "3             630.6    Premium        1   Model 3                 2022    1   \n",
       "4             660.9     Normal        1   Model 3                 2022    1   \n",
       "\n",
       "  Factory_City Factory_Country  Temperature_value Temperature_units  \n",
       "0    Shang Hai           China          43.500000                °C  \n",
       "1    Shang Hai           China          43.555556                °C  \n",
       "2    Shang Hai           China          43.500000                °C  \n",
       "3       Berlin         Germany          43.555556                °C  \n",
       "4     New York             U.S         110.388889                °C  "
      ]
     },
     "execution_count": 20,
     "metadata": {},
     "output_type": "execute_result"
    }
   ],
   "source": [
    "#convert\n",
    "df[\"Temperature_value\"]=df[\"Temperature_value\"].astype(float)\n",
    "df.loc[df[\"Temperature_units\"]==\"°F\", [\"Temperature_value\",\"Temperature_units\"]]= ((df[\"Temperature_value\"] - 32) *(5/9),\"°C\")\n",
    "\n",
    "df.head()"
   ]
  },
  {
   "cell_type": "markdown",
   "id": "828fed60",
   "metadata": {},
   "source": [
    "#### Check that no more Fahrenheit values"
   ]
  },
  {
   "cell_type": "code",
   "execution_count": 21,
   "id": "fbbdadd3",
   "metadata": {},
   "outputs": [
    {
     "name": "stdout",
     "output_type": "stream",
     "text": [
      "0\n"
     ]
    },
    {
     "data": {
      "text/html": [
       "<div>\n",
       "<style scoped>\n",
       "    .dataframe tbody tr th:only-of-type {\n",
       "        vertical-align: middle;\n",
       "    }\n",
       "\n",
       "    .dataframe tbody tr th {\n",
       "        vertical-align: top;\n",
       "    }\n",
       "\n",
       "    .dataframe thead th {\n",
       "        text-align: right;\n",
       "    }\n",
       "</style>\n",
       "<table border=\"1\" class=\"dataframe\">\n",
       "  <thead>\n",
       "    <tr style=\"text-align: right;\">\n",
       "      <th></th>\n",
       "      <th>Car ID</th>\n",
       "      <th>Color</th>\n",
       "      <th>Temperature</th>\n",
       "      <th>RPM</th>\n",
       "      <th>Usage</th>\n",
       "      <th>Fuel consumption</th>\n",
       "      <th>Membership</th>\n",
       "      <th>Failure</th>\n",
       "      <th>Model_num</th>\n",
       "      <th>Year_of_Manufacture</th>\n",
       "      <th>Age</th>\n",
       "      <th>Factory_City</th>\n",
       "      <th>Factory_Country</th>\n",
       "      <th>Temperature_value</th>\n",
       "      <th>Temperature_units</th>\n",
       "    </tr>\n",
       "  </thead>\n",
       "  <tbody>\n",
       "  </tbody>\n",
       "</table>\n",
       "</div>"
      ],
      "text/plain": [
       "Empty DataFrame\n",
       "Columns: [Car ID, Color, Temperature, RPM, Usage, Fuel consumption, Membership, Failure, Model_num, Year_of_Manufacture, Age, Factory_City, Factory_Country, Temperature_value, Temperature_units]\n",
       "Index: []"
      ]
     },
     "execution_count": 21,
     "metadata": {},
     "output_type": "execute_result"
    }
   ],
   "source": [
    "print(len(df[df[\"Temperature_units\"]!=\"°C\"]))\n",
    "df[df[\"Temperature_units\"]!=\"°C\"]"
   ]
  },
  {
   "cell_type": "markdown",
   "id": "bbf8a0c6",
   "metadata": {},
   "source": [
    "#### Drop original feature - Temperature"
   ]
  },
  {
   "cell_type": "code",
   "execution_count": 22,
   "id": "8e312bd8",
   "metadata": {},
   "outputs": [
    {
     "name": "stdout",
     "output_type": "stream",
     "text": [
      "<class 'pandas.core.frame.DataFrame'>\n",
      "RangeIndex: 10081 entries, 0 to 10080\n",
      "Data columns (total 14 columns):\n",
      " #   Column               Non-Null Count  Dtype  \n",
      "---  ------               --------------  -----  \n",
      " 0   Car ID               10081 non-null  object \n",
      " 1   Color                10081 non-null  object \n",
      " 2   RPM                  10081 non-null  int64  \n",
      " 3   Usage                10081 non-null  object \n",
      " 4   Fuel consumption     10081 non-null  float64\n",
      " 5   Membership           9697 non-null   object \n",
      " 6   Failure              10081 non-null  int64  \n",
      " 7   Model_num            10081 non-null  object \n",
      " 8   Year_of_Manufacture  10081 non-null  int32  \n",
      " 9   Age                  10081 non-null  int32  \n",
      " 10  Factory_City         10081 non-null  object \n",
      " 11  Factory_Country      10081 non-null  object \n",
      " 12  Temperature_value    2193 non-null   float64\n",
      " 13  Temperature_units    10081 non-null  object \n",
      "dtypes: float64(2), int32(2), int64(2), object(8)\n",
      "memory usage: 1024.0+ KB\n"
     ]
    }
   ],
   "source": [
    "df=df.drop(\"Temperature\",axis=1)\n",
    "\n",
    "df.info()"
   ]
  },
  {
   "cell_type": "markdown",
   "id": "aa50d794",
   "metadata": {},
   "source": [
    "### (3) Missing Data"
   ]
  },
  {
   "cell_type": "markdown",
   "id": "1T2wrKHaEaaZ",
   "metadata": {
    "id": "1T2wrKHaEaaZ"
   },
   "source": [
    "### To determine whether to impute the missing data with Mean or Median or Mode\n",
    "\n",
    "\n",
    "(1) Impute with Mean - Not suitable if the data is skewed (can be done for both numerical data only)\n",
    "\n",
    "(2) Impute with Median - Good for skewed data (can be done for both numerical data only)\n",
    "\n",
    "(3) Impute with Mode - Good for skewed data (can be done for both numerical and categorical data)\n",
    "\n",
    "\n",
    "### Observations/Conclusions:\n",
    "(1) Missing data - Membership is a Categorical features\n",
    "\n",
    "### Interpretation and Impact :\n",
    "(1) Hence, we can only impute with Mode.\n"
   ]
  },
  {
   "cell_type": "markdown",
   "id": "c60e4f99",
   "metadata": {},
   "source": [
    "### Missing data - Impute with mode"
   ]
  },
  {
   "cell_type": "code",
   "execution_count": 23,
   "id": "f036dae7",
   "metadata": {},
   "outputs": [
    {
     "data": {
      "text/plain": [
       "'Normal'"
      ]
     },
     "execution_count": 23,
     "metadata": {},
     "output_type": "execute_result"
    }
   ],
   "source": [
    "\"\"\"\n",
    "from sklearn.impute import SimpleImputer\n",
    "imputer = SimpleImputer(missing_values=np.nan, strategy='most_frequent')\n",
    "imputer = imputer.fit(df)\n",
    "  \n",
    "df = imputer.transform(df)\n",
    "df\n",
    "\"\"\"\n",
    "\n",
    "\n",
    "df['Membership'].fillna(df['Membership'].mode()[0], inplace=True)\n",
    "\n",
    "df['Membership'].mode()[0]"
   ]
  },
  {
   "cell_type": "markdown",
   "id": "c469be88",
   "metadata": {},
   "source": [
    "### Observations/Conclusions:\n",
    "\n",
    "- imputed missing data in Memebership feature with Mode - \"Normal\"\n",
    "\n"
   ]
  },
  {
   "cell_type": "markdown",
   "id": "99cb807a",
   "metadata": {},
   "source": [
    "### (4) Drop Features\n",
    "\n",
    "- Drop useless features - Car ID (use for identification of car), Temperature units (all data are value °C)"
   ]
  },
  {
   "cell_type": "code",
   "execution_count": 24,
   "id": "ba069031",
   "metadata": {},
   "outputs": [
    {
     "name": "stdout",
     "output_type": "stream",
     "text": [
      "<class 'pandas.core.frame.DataFrame'>\n",
      "RangeIndex: 10081 entries, 0 to 10080\n",
      "Data columns (total 12 columns):\n",
      " #   Column               Non-Null Count  Dtype  \n",
      "---  ------               --------------  -----  \n",
      " 0   Color                10081 non-null  object \n",
      " 1   RPM                  10081 non-null  int64  \n",
      " 2   Usage                10081 non-null  object \n",
      " 3   Fuel consumption     10081 non-null  float64\n",
      " 4   Membership           10081 non-null  object \n",
      " 5   Failure              10081 non-null  int64  \n",
      " 6   Model_num            10081 non-null  object \n",
      " 7   Year_of_Manufacture  10081 non-null  int32  \n",
      " 8   Age                  10081 non-null  int32  \n",
      " 9   Factory_City         10081 non-null  object \n",
      " 10  Factory_Country      10081 non-null  object \n",
      " 11  Temperature_value    2193 non-null   float64\n",
      "dtypes: float64(2), int32(2), int64(2), object(6)\n",
      "memory usage: 866.5+ KB\n"
     ]
    }
   ],
   "source": [
    "df=df.drop(columns=[\"Car ID\",\"Temperature_units\"])\n",
    "df.info()"
   ]
  },
  {
   "cell_type": "markdown",
   "id": "9833bbaf",
   "metadata": {},
   "source": [
    "### Analysis of Data (Part 1)"
   ]
  },
  {
   "cell_type": "markdown",
   "id": "8HA0r0q4VIF4",
   "metadata": {
    "id": "8HA0r0q4VIF4"
   },
   "source": [
    "### (1) To determine if the dataset is unbalanced"
   ]
  },
  {
   "cell_type": "code",
   "execution_count": 25,
   "id": "295804e1",
   "metadata": {
    "scrolled": true
   },
   "outputs": [
    {
     "data": {
      "text/plain": [
       "<AxesSubplot:>"
      ]
     },
     "execution_count": 25,
     "metadata": {},
     "output_type": "execute_result"
    },
    {
     "data": {
      "image/png": "[encoded data removed]",
      "text/plain": [
       "<Figure size 432x288 with 1 Axes>"
      ]
     },
     "metadata": {
      "needs_background": "light"
     },
     "output_type": "display_data"
    }
   ],
   "source": [
    "df[\"Failure\"].hist(bins=20)"
   ]
  },
  {
   "cell_type": "code",
   "execution_count": 26,
   "id": "2b13b6a4",
   "metadata": {
    "colab": {
     "base_uri": "https://localhost:8080/"
    },
    "id": "2b13b6a4",
    "outputId": "4aaeffe7-ae16-4c2c-ad8f-3fc495841934"
   },
   "outputs": [
    {
     "name": "stdout",
     "output_type": "stream",
     "text": [
      "Failure\n",
      "0    8809\n",
      "1    1272\n",
      "dtype: int64\n"
     ]
    },
    {
     "data": {
      "text/plain": [
       "Failure\n",
       "0    0.873822\n",
       "1    0.126178\n",
       "dtype: float64"
      ]
     },
     "execution_count": 26,
     "metadata": {},
     "output_type": "execute_result"
    }
   ],
   "source": [
    "print(df.groupby(\"Failure\").size())\n",
    "df.groupby(\"Failure\").size()/(len(df))"
   ]
  },
  {
   "cell_type": "code",
   "execution_count": 27,
   "id": "884e339b",
   "metadata": {},
   "outputs": [
    {
     "data": {
      "text/plain": [
       "count    10081.000000\n",
       "mean         0.126178\n",
       "std          0.332066\n",
       "min          0.000000\n",
       "25%          0.000000\n",
       "50%          0.000000\n",
       "75%          0.000000\n",
       "max          1.000000\n",
       "Name: Failure, dtype: float64"
      ]
     },
     "execution_count": 27,
     "metadata": {},
     "output_type": "execute_result"
    }
   ],
   "source": [
    "df['Failure'].describe()"
   ]
  },
  {
   "cell_type": "markdown",
   "id": "l6a03b3iwNrH",
   "metadata": {
    "id": "l6a03b3iwNrH"
   },
   "source": [
    "\n",
    "\n",
    "### Observations/Conclusions:\n",
    "\n",
    "(1) 87.4% of the cars did not fail. Only 12.6% failed. There are more cars that did not fail than cars that fail. The dataset is unbalanced. This is not an accurate representation of the population and the train and test set may be a biased one. This will result in poor model performance.\n",
    "\n",
    "### Interpretation and Impact :\n",
    "(1) We will need to do stratified sampling when splitting the dataset into Train and Test set to ensure that each set still retain the same ratio of failed and success."
   ]
  },
  {
   "cell_type": "markdown",
   "id": "a0912c8e",
   "metadata": {},
   "source": [
    "### (2) Relationship between features and Target Variable - Failure"
   ]
  },
  {
   "cell_type": "markdown",
   "id": "09297b0f",
   "metadata": {},
   "source": [
    "### categorical features"
   ]
  },
  {
   "cell_type": "code",
   "execution_count": 28,
   "id": "7e31e592",
   "metadata": {},
   "outputs": [
    {
     "name": "stdout",
     "output_type": "stream",
     "text": [
      "['Color', 'Usage', 'Membership', 'Model_num', 'Factory_City', 'Factory_Country']\n",
      "['RPM', 'Fuel consumption', 'Failure', 'Year_of_Manufacture', 'Age', 'Temperature_value']\n",
      "<class 'pandas.core.frame.DataFrame'>\n",
      "RangeIndex: 10081 entries, 0 to 10080\n",
      "Data columns (total 12 columns):\n",
      " #   Column               Non-Null Count  Dtype  \n",
      "---  ------               --------------  -----  \n",
      " 0   Color                10081 non-null  object \n",
      " 1   RPM                  10081 non-null  int64  \n",
      " 2   Usage                10081 non-null  object \n",
      " 3   Fuel consumption     10081 non-null  float64\n",
      " 4   Membership           10081 non-null  object \n",
      " 5   Failure              10081 non-null  int64  \n",
      " 6   Model_num            10081 non-null  object \n",
      " 7   Year_of_Manufacture  10081 non-null  int32  \n",
      " 8   Age                  10081 non-null  int32  \n",
      " 9   Factory_City         10081 non-null  object \n",
      " 10  Factory_Country      10081 non-null  object \n",
      " 11  Temperature_value    2193 non-null   float64\n",
      "dtypes: float64(2), int32(2), int64(2), object(6)\n",
      "memory usage: 866.5+ KB\n"
     ]
    }
   ],
   "source": [
    "(categorical_vars,num_vars)=get_features(df)\n",
    "print(categorical_vars)\n",
    "print(num_vars)\n",
    "df.info()"
   ]
  },
  {
   "cell_type": "markdown",
   "id": "fd22268a",
   "metadata": {},
   "source": [
    "### Color vs Failure"
   ]
  },
  {
   "cell_type": "code",
   "execution_count": 29,
   "id": "6fafe261",
   "metadata": {
    "scrolled": true
   },
   "outputs": [
    {
     "data": {
      "image/png": "[encoded data removed]",
      "text/plain": [
       "<Figure size 432x288 with 1 Axes>"
      ]
     },
     "metadata": {},
     "output_type": "display_data"
    }
   ],
   "source": [
    "sns.set(style=\"whitegrid\")\n",
    "#sns.displot(df[\"Failure\"], bins=10, kde=False, rug=False)\n",
    "#sns.barplot(y=\"Failure\", x=\"Color\", palette=\"pastel\",data=df)\n",
    "#sns.stripplot(x=\"Failure\", y=\"Color\", data=df, jitter=True)\n",
    "sns.countplot(x=\"Failure\", hue='Color', palette=\"bright\",data=df)\n",
    "plt.show()"
   ]
  },
  {
   "cell_type": "markdown",
   "id": "77e3e45c",
   "metadata": {},
   "source": [
    "### Observations/Conclusions:\n",
    "\n",
    "(1) Most of the cars are white. Hence, the cars that did not fail are mostly white cars.\n",
    "\n",
    "(2) The cars that have failure are white cars.\n",
    "\n"
   ]
  },
  {
   "cell_type": "markdown",
   "id": "1ad93e38",
   "metadata": {},
   "source": [
    "### Usage vs Failure"
   ]
  },
  {
   "cell_type": "code",
   "execution_count": 30,
   "id": "227c8d84",
   "metadata": {
    "scrolled": true
   },
   "outputs": [
    {
     "data": {
      "image/png": "[encoded data removed]",
      "text/plain": [
       "<Figure size 432x288 with 1 Axes>"
      ]
     },
     "metadata": {},
     "output_type": "display_data"
    }
   ],
   "source": [
    "sns.set(style=\"whitegrid\")\n",
    "#sns.displot(df[\"Failure\"], bins=10, kde=Fae, rug=False)\n",
    "sns.barplot(y=\"Failure\", x=\"Usage\", palette=\"pastel\",data=df)\n",
    "#sns.stripplot(x=\"Failure\", y=\"Usage\", data=df, jitter=True)\n",
    "#sns.countplot(x=\"Usage\", hue='Failure', palette=\"deep\",data=df)\n",
    "plt.show()"
   ]
  },
  {
   "cell_type": "markdown",
   "id": "7d5c1f61",
   "metadata": {},
   "source": [
    "### Observations/Conclusions:\n",
    "\n",
    "(1) High usage cars are more likely to fail due to constant wear and tear.\n",
    "\n",
    "(2) Low usage cars are least likely to fail.\n"
   ]
  },
  {
   "cell_type": "markdown",
   "id": "7d1ba89c",
   "metadata": {},
   "source": [
    "### Membership vs Failure"
   ]
  },
  {
   "cell_type": "code",
   "execution_count": 31,
   "id": "8bcb8297",
   "metadata": {
    "scrolled": true
   },
   "outputs": [
    {
     "data": {
      "image/png": "[encoded data removed]",
      "text/plain": [
       "<Figure size 432x288 with 1 Axes>"
      ]
     },
     "metadata": {},
     "output_type": "display_data"
    }
   ],
   "source": [
    "sns.set(style=\"whitegrid\")\n",
    "#sns.displot(df[\"Failure\"], bins=10, kde=Fae, rug=False)\n",
    "sns.barplot(y=\"Failure\", x=\"Membership\", palette=\"pastel\",data=df)\n",
    "#sns.stripplot(x=\"Failure\", y=\"Membership\", data=df, jitter=True)\n",
    "#sns.countplot(x=\"Membership\", hue='Failure', palette=\"deep\",data=df)\n",
    "plt.show()"
   ]
  },
  {
   "cell_type": "markdown",
   "id": "b43d2a6c",
   "metadata": {},
   "source": [
    "### Observations/Conclusions:\n",
    "\n",
    "(1) Cars with no membership more likely to fail as they are not serviced regularly.\n",
    "\n",
    "(2) Cars with Premium membership are least likely to fail as they are serviced more regularly than Normal or No membership\n"
   ]
  },
  {
   "cell_type": "markdown",
   "id": "bdd0ac86",
   "metadata": {},
   "source": [
    "### Model number vs Failure"
   ]
  },
  {
   "cell_type": "code",
   "execution_count": 32,
   "id": "1e3a7f1a",
   "metadata": {
    "scrolled": true
   },
   "outputs": [
    {
     "data": {
      "image/png": "[encoded data removed]",
      "text/plain": [
       "<Figure size 432x288 with 1 Axes>"
      ]
     },
     "metadata": {},
     "output_type": "display_data"
    }
   ],
   "source": [
    "sns.set(style=\"whitegrid\")\n",
    "#sns.displot(df[\"Failure\"], bins=10, kde=Fae, rug=False)\n",
    "#sns.barplot(y=\"Failure\", x=\"Model_num\", palette=\"pastel\",data=df)\n",
    "#sns.stripplot(x=\"Failure\", y=\"Model_num\", data=df, jitter=True)\n",
    "sns.countplot(x=\"Model_num\", hue='Failure', palette=\"deep\",data=df)\n",
    "plt.show()"
   ]
  },
  {
   "cell_type": "markdown",
   "id": "546e112b",
   "metadata": {},
   "source": [
    "### Observations/Conclusions:\n",
    "\n",
    "(1) Most cars are of Model 3. There are few cars of Model 7.\n",
    "\n",
    "(2) Hence, there are more cars of Model 3 that have failure.\n",
    "\n",
    "\n",
    "\n"
   ]
  },
  {
   "cell_type": "markdown",
   "id": "7cf9a137",
   "metadata": {},
   "source": [
    "### Factory city vs Failure"
   ]
  },
  {
   "cell_type": "code",
   "execution_count": 33,
   "id": "e30c862c",
   "metadata": {
    "scrolled": true
   },
   "outputs": [
    {
     "data": {
      "image/png": "[encoded data removed]",
      "text/plain": [
       "<Figure size 432x288 with 1 Axes>"
      ]
     },
     "metadata": {},
     "output_type": "display_data"
    }
   ],
   "source": [
    "sns.set(style=\"whitegrid\")\n",
    "#sns.displot(df[\"Failure\"], bins=10, kde=Fae, rug=False)\n",
    "#sns.barplot(y=\"Failure\", x=\"Factory_City\", palette=\"pastel\",data=df)\n",
    "#sns.stripplot(x=\"Failure\", y=\"Factory_City\", data=df, jitter=True)\n",
    "sns.countplot(x=\"Factory_City\", hue='Failure', palette=\"deep\",data=df)\n",
    "plt.show()"
   ]
  },
  {
   "cell_type": "code",
   "execution_count": 34,
   "id": "636c7994",
   "metadata": {},
   "outputs": [
    {
     "data": {
      "text/plain": [
       "Factory_City\n",
       "Bedok          30\n",
       "Berlin       2233\n",
       "New York     2150\n",
       "Newton         44\n",
       "Seng Kang     106\n",
       "Shang Hai    5518\n",
       "dtype: int64"
      ]
     },
     "execution_count": 34,
     "metadata": {},
     "output_type": "execute_result"
    }
   ],
   "source": [
    "df.groupby([\"Factory_City\"]).size()"
   ]
  },
  {
   "cell_type": "markdown",
   "id": "bc8ffaa3",
   "metadata": {},
   "source": [
    "### Observations/Conclusions:\n",
    "\n",
    "(1) Most cars are manufactured in Shanghai Factory. \n",
    "\n",
    "(2) Shanghai Factory-made cars are likely to fail than cars manufactured in other factories.\n",
    "\n"
   ]
  },
  {
   "cell_type": "markdown",
   "id": "fb2ccd8b",
   "metadata": {},
   "source": [
    "### Factory country vs Failure"
   ]
  },
  {
   "cell_type": "code",
   "execution_count": 35,
   "id": "5b1bdb22",
   "metadata": {},
   "outputs": [
    {
     "data": {
      "text/plain": [
       "Factory_Country\n",
       " China      5668\n",
       " Germany    2263\n",
       " U.S        2150\n",
       "dtype: int64"
      ]
     },
     "execution_count": 35,
     "metadata": {},
     "output_type": "execute_result"
    }
   ],
   "source": [
    "df.groupby([\"Factory_Country\"]).size()"
   ]
  },
  {
   "cell_type": "code",
   "execution_count": 36,
   "id": "0c68cb10",
   "metadata": {
    "scrolled": true
   },
   "outputs": [
    {
     "data": {
      "image/png": "[encoded data removed]",
      "text/plain": [
       "<Figure size 432x288 with 1 Axes>"
      ]
     },
     "metadata": {},
     "output_type": "display_data"
    }
   ],
   "source": [
    "sns.set(style=\"whitegrid\")\n",
    "#sns.displot(df[\"Failure\"], bins=10, kde=Fae, rug=False)\n",
    "sns.barplot(y=\"Failure\", x=\"Factory_Country\", palette=\"pastel\",data=df)\n",
    "#sns.stripplot(x=\"Failure\", y=\"Factory_Country\", data=df, jitter=True)\n",
    "#sns.countplot(x=\"Factory_Country\", hue='Failure', palette=\"deep\",data=df)\n",
    "plt.show()"
   ]
  },
  {
   "cell_type": "markdown",
   "id": "155401fa",
   "metadata": {},
   "source": [
    "### Observations/Conclusions:\n",
    "\n",
    "(1) Cars manufactured by the Factory in China is more likely to fail. Those manufactured in US is least likely to fail."
   ]
  },
  {
   "cell_type": "markdown",
   "id": "880e3fad",
   "metadata": {},
   "source": [
    "### Numerical Features"
   ]
  },
  {
   "cell_type": "code",
   "execution_count": 37,
   "id": "20d57a32",
   "metadata": {},
   "outputs": [
    {
     "data": {
      "text/plain": [
       "['RPM',\n",
       " 'Fuel consumption',\n",
       " 'Failure',\n",
       " 'Year_of_Manufacture',\n",
       " 'Age',\n",
       " 'Temperature_value']"
      ]
     },
     "execution_count": 37,
     "metadata": {},
     "output_type": "execute_result"
    }
   ],
   "source": [
    "num_vars\n"
   ]
  },
  {
   "cell_type": "markdown",
   "id": "a494c154",
   "metadata": {},
   "source": [
    "### RPM vs Failure"
   ]
  },
  {
   "cell_type": "code",
   "execution_count": 38,
   "id": "d8c60198",
   "metadata": {},
   "outputs": [
    {
     "data": {
      "text/plain": [
       "<AxesSubplot:xlabel='Failure', ylabel='RPM'>"
      ]
     },
     "execution_count": 38,
     "metadata": {},
     "output_type": "execute_result"
    },
    {
     "data": {
      "image/png": "[encoded data removed]",
      "text/plain": [
       "<Figure size 432x288 with 1 Axes>"
      ]
     },
     "metadata": {},
     "output_type": "display_data"
    }
   ],
   "source": [
    "#fig, (axis1,axis2,axis3) = plt.subplots(3,1,figsize=(18,6))\n",
    "#sns.barplot(x='Age', y='Failure', data=df, ax = axis1)\n",
    "#sns.barplot(x='Age', y='Failure', data=df, ax = axis2)\n",
    "sns.pointplot(x = 'Failure', y = 'RPM', data=df)"
   ]
  },
  {
   "cell_type": "markdown",
   "id": "c3832d57",
   "metadata": {},
   "source": [
    "### Observations/Conclusions:\n",
    "\n",
    "(1) Cars with RPM between 1460 and 1480 are least likely to fail.\n"
   ]
  },
  {
   "cell_type": "markdown",
   "id": "36fa5b6c",
   "metadata": {},
   "source": [
    "### Fuel Consumption vs Failure"
   ]
  },
  {
   "cell_type": "code",
   "execution_count": 39,
   "id": "26a0e8a2",
   "metadata": {},
   "outputs": [
    {
     "data": {
      "text/plain": [
       "<AxesSubplot:>"
      ]
     },
     "execution_count": 39,
     "metadata": {},
     "output_type": "execute_result"
    },
    {
     "data": {
      "image/png": "[encoded data removed]",
      "text/plain": [
       "<Figure size 432x288 with 1 Axes>"
      ]
     },
     "metadata": {},
     "output_type": "display_data"
    }
   ],
   "source": [
    "df[\"Fuel consumption\"].hist(bins=10)"
   ]
  },
  {
   "cell_type": "code",
   "execution_count": 40,
   "id": "ff88ccd8",
   "metadata": {},
   "outputs": [
    {
     "data": {
      "text/plain": [
       "<AxesSubplot:xlabel='Failure', ylabel='Fuel consumption'>"
      ]
     },
     "execution_count": 40,
     "metadata": {},
     "output_type": "execute_result"
    },
    {
     "data": {
      "image/png": "[encoded data removed]",
      "text/plain": [
       "<Figure size 432x288 with 1 Axes>"
      ]
     },
     "metadata": {},
     "output_type": "display_data"
    }
   ],
   "source": [
    "#fig, (axis1,axis2,axis3) = plt.subplots(3,1,figsize=(18,6))\n",
    "#sns.barplot(x='Age', y='Failure', data=df, ax = axis1)\n",
    "#sns.barplot(x='Age', y='Failure', data=df, ax = axis2)\n",
    "sns.pointplot(x = 'Failure', y = 'Fuel consumption', data=df)"
   ]
  },
  {
   "cell_type": "markdown",
   "id": "97f578a1",
   "metadata": {},
   "source": [
    "### Observations/Conclusions:\n",
    "\n",
    "(1) Cars with Fuel consumption < 680  are least likely to fail.\n"
   ]
  },
  {
   "cell_type": "markdown",
   "id": "1de07b45",
   "metadata": {},
   "source": [
    "### Year of Manufacture vs Failure"
   ]
  },
  {
   "cell_type": "code",
   "execution_count": 41,
   "id": "4978793f",
   "metadata": {},
   "outputs": [
    {
     "data": {
      "text/plain": [
       "<AxesSubplot:xlabel='Year_of_Manufacture', ylabel='Failure'>"
      ]
     },
     "execution_count": 41,
     "metadata": {},
     "output_type": "execute_result"
    },
    {
     "data": {
      "image/png": "[encoded data removed]",
      "text/plain": [
       "<Figure size 432x288 with 1 Axes>"
      ]
     },
     "metadata": {},
     "output_type": "display_data"
    }
   ],
   "source": [
    "#fig, (axis1,axis2,axis3) = plt.subplots(3,1,figsize=(18,6))\n",
    "#sns.barplot(x='Age', y='Failure', data=df, ax = axis1)\n",
    "#sns.barplot(x='Age', y='Failure', data=df, ax = axis2)\n",
    "sns.pointplot(x = 'Year_of_Manufacture', y = 'Failure', data=df)"
   ]
  },
  {
   "cell_type": "markdown",
   "id": "7f8ba87f",
   "metadata": {},
   "source": [
    "### Observations/Conclusions:\n",
    "\n",
    "(1) Cars that were manufactured between 2009 and 2011 are more likely to fail.\n"
   ]
  },
  {
   "cell_type": "markdown",
   "id": "2735bbe1",
   "metadata": {},
   "source": [
    "### Age vs Failure"
   ]
  },
  {
   "cell_type": "code",
   "execution_count": 42,
   "id": "afaef8fe",
   "metadata": {},
   "outputs": [
    {
     "data": {
      "text/plain": [
       "<AxesSubplot:>"
      ]
     },
     "execution_count": 42,
     "metadata": {},
     "output_type": "execute_result"
    },
    {
     "data": {
      "image/png": "[encoded data removed]",
      "text/plain": [
       "<Figure size 432x288 with 1 Axes>"
      ]
     },
     "metadata": {},
     "output_type": "display_data"
    }
   ],
   "source": [
    "df[\"Age\"].hist(bins=10)"
   ]
  },
  {
   "cell_type": "code",
   "execution_count": 43,
   "id": "e562554b",
   "metadata": {},
   "outputs": [
    {
     "data": {
      "text/plain": [
       "<AxesSubplot:xlabel='Age', ylabel='Failure'>"
      ]
     },
     "execution_count": 43,
     "metadata": {},
     "output_type": "execute_result"
    },
    {
     "data": {
      "image/png": "[encoded data removed]",
      "text/plain": [
       "<Figure size 432x288 with 1 Axes>"
      ]
     },
     "metadata": {},
     "output_type": "display_data"
    }
   ],
   "source": [
    "#fig, (axis1,axis2,axis3) = plt.subplots(3,1,figsize=(18,6))\n",
    "#sns.barplot(x='Age', y='Failure', data=df, ax = axis1)\n",
    "#sns.barplot(x='Age', y='Failure', data=df, ax = axis2)\n",
    "sns.pointplot(x = 'Age', y = 'Failure', data=df)"
   ]
  },
  {
   "cell_type": "markdown",
   "id": "989a5f0a",
   "metadata": {},
   "source": [
    "### Observations/Conclusions:\n",
    "\n",
    "(1) Cars with age greater than 11 years are more likely to fail.\n",
    "\n",
    "(2) This is aligned with the analysis on Year of Manufacture where cars manufactured between 2009 (age=14) and 2011 (Age=12)\n",
    "\n",
    "(3) These 2 features are the same so we can drop one of them - Year of Manufacture\n"
   ]
  },
  {
   "cell_type": "code",
   "execution_count": 44,
   "id": "717cf431",
   "metadata": {},
   "outputs": [
    {
     "name": "stdout",
     "output_type": "stream",
     "text": [
      "<class 'pandas.core.frame.DataFrame'>\n",
      "RangeIndex: 10081 entries, 0 to 10080\n",
      "Data columns (total 11 columns):\n",
      " #   Column             Non-Null Count  Dtype  \n",
      "---  ------             --------------  -----  \n",
      " 0   Color              10081 non-null  object \n",
      " 1   RPM                10081 non-null  int64  \n",
      " 2   Usage              10081 non-null  object \n",
      " 3   Fuel consumption   10081 non-null  float64\n",
      " 4   Membership         10081 non-null  object \n",
      " 5   Failure            10081 non-null  int64  \n",
      " 6   Model_num          10081 non-null  object \n",
      " 7   Age                10081 non-null  int32  \n",
      " 8   Factory_City       10081 non-null  object \n",
      " 9   Factory_Country    10081 non-null  object \n",
      " 10  Temperature_value  2193 non-null   float64\n",
      "dtypes: float64(2), int32(1), int64(2), object(6)\n",
      "memory usage: 827.1+ KB\n"
     ]
    }
   ],
   "source": [
    "df=df.drop(columns=[\"Year_of_Manufacture\"],axis=1)\n",
    "df.info()"
   ]
  },
  {
   "cell_type": "markdown",
   "id": "146fe81c",
   "metadata": {},
   "source": [
    "### Temperature value vs Failure"
   ]
  },
  {
   "cell_type": "code",
   "execution_count": 45,
   "id": "ba6a3565",
   "metadata": {},
   "outputs": [
    {
     "data": {
      "text/plain": [
       "<AxesSubplot:>"
      ]
     },
     "execution_count": 45,
     "metadata": {},
     "output_type": "execute_result"
    },
    {
     "data": {
      "image/png": "[encoded data removed]",
      "text/plain": [
       "<Figure size 432x288 with 1 Axes>"
      ]
     },
     "metadata": {},
     "output_type": "display_data"
    }
   ],
   "source": [
    "df[\"Temperature_value\"].hist(bins=10)"
   ]
  },
  {
   "cell_type": "code",
   "execution_count": 46,
   "id": "75f499b5",
   "metadata": {},
   "outputs": [
    {
     "data": {
      "text/plain": [
       "<AxesSubplot:xlabel='Failure', ylabel='Temperature_value'>"
      ]
     },
     "execution_count": 46,
     "metadata": {},
     "output_type": "execute_result"
    },
    {
     "data": {
      "image/png": "[encoded data removed]",
      "text/plain": [
       "<Figure size 432x288 with 1 Axes>"
      ]
     },
     "metadata": {},
     "output_type": "display_data"
    }
   ],
   "source": [
    "#fig, (axis1,axis2,axis3) = plt.subplots(3,1,figsize=(18,6))\n",
    "#sns.barplot(x='Age', y='Failure', data=df, ax = axis1)\n",
    "#sns.barplot(x='Failure', y='Temperature_value', data=df)\n",
    "sns.pointplot(x = 'Failure', y = 'Temperature_value', data=df)"
   ]
  },
  {
   "cell_type": "markdown",
   "id": "d06502ed",
   "metadata": {},
   "source": [
    "### Observations/Conclusions:\n",
    "\n",
    "(1) Cars with temperature range between 56.5 and 58.8 are least likely to fail.\n"
   ]
  },
  {
   "cell_type": "markdown",
   "id": "Ls9MFabDZvzC",
   "metadata": {
    "id": "Ls9MFabDZvzC"
   },
   "source": [
    "### Data Preparation (Part 2)\n"
   ]
  },
  {
   "cell_type": "markdown",
   "id": "a307d111",
   "metadata": {
    "id": "Ls9MFabDZvzC"
   },
   "source": [
    "### Encode categorical features to numeric \n",
    "- Most models work only with numeric continous data\n",
    "- using integers to represent each category is not sufficient as models would interpret te categories as being ordered\n",
    "- So need to do One Hot Encoding or Dummy Encoding\n",
    "\n"
   ]
  },
  {
   "cell_type": "code",
   "execution_count": 47,
   "id": "BvAO9mUAanBm",
   "metadata": {
    "colab": {
     "base_uri": "https://localhost:8080/"
    },
    "id": "BvAO9mUAanBm",
    "outputId": "766bd654-7661-457f-b0e7-148b10c41806"
   },
   "outputs": [
    {
     "data": {
      "text/plain": [
       "Color                 object\n",
       "RPM                    int64\n",
       "Usage                 object\n",
       "Fuel consumption     float64\n",
       "Membership            object\n",
       "Failure                int64\n",
       "Model_num             object\n",
       "Age                    int32\n",
       "Factory_City          object\n",
       "Factory_Country       object\n",
       "Temperature_value    float64\n",
       "dtype: object"
      ]
     },
     "execution_count": 47,
     "metadata": {},
     "output_type": "execute_result"
    }
   ],
   "source": [
    "df.dtypes"
   ]
  },
  {
   "cell_type": "markdown",
   "id": "cccacbe8",
   "metadata": {},
   "source": [
    "### Dummy Encode Categorical Feature"
   ]
  },
  {
   "cell_type": "code",
   "execution_count": 48,
   "id": "MQ2Q-mlMihqi",
   "metadata": {
    "colab": {
     "base_uri": "https://localhost:8080/",
     "height": 223
    },
    "id": "MQ2Q-mlMihqi",
    "outputId": "50d89d15-77e2-438c-9b73-8af2ce430f95"
   },
   "outputs": [
    {
     "data": {
      "text/html": [
       "<div>\n",
       "<style scoped>\n",
       "    .dataframe tbody tr th:only-of-type {\n",
       "        vertical-align: middle;\n",
       "    }\n",
       "\n",
       "    .dataframe tbody tr th {\n",
       "        vertical-align: top;\n",
       "    }\n",
       "\n",
       "    .dataframe thead th {\n",
       "        text-align: right;\n",
       "    }\n",
       "</style>\n",
       "<table border=\"1\" class=\"dataframe\">\n",
       "  <thead>\n",
       "    <tr style=\"text-align: right;\">\n",
       "      <th></th>\n",
       "      <th>RPM</th>\n",
       "      <th>Fuel consumption</th>\n",
       "      <th>Failure</th>\n",
       "      <th>Age</th>\n",
       "      <th>Temperature_value</th>\n",
       "      <th>Color_Black</th>\n",
       "      <th>Color_Blue</th>\n",
       "      <th>Color_Grey</th>\n",
       "      <th>Color_Red</th>\n",
       "      <th>Color_White</th>\n",
       "      <th>...</th>\n",
       "      <th>Model_num_Model 7</th>\n",
       "      <th>Factory_City_Bedok</th>\n",
       "      <th>Factory_City_Berlin</th>\n",
       "      <th>Factory_City_New York</th>\n",
       "      <th>Factory_City_Newton</th>\n",
       "      <th>Factory_City_Seng Kang</th>\n",
       "      <th>Factory_City_Shang Hai</th>\n",
       "      <th>Factory_Country_ China</th>\n",
       "      <th>Factory_Country_ Germany</th>\n",
       "      <th>Factory_Country_ U.S</th>\n",
       "    </tr>\n",
       "  </thead>\n",
       "  <tbody>\n",
       "    <tr>\n",
       "      <th>0</th>\n",
       "      <td>1551</td>\n",
       "      <td>659.7</td>\n",
       "      <td>0</td>\n",
       "      <td>1</td>\n",
       "      <td>43.500000</td>\n",
       "      <td>0</td>\n",
       "      <td>1</td>\n",
       "      <td>0</td>\n",
       "      <td>0</td>\n",
       "      <td>0</td>\n",
       "      <td>...</td>\n",
       "      <td>0</td>\n",
       "      <td>0</td>\n",
       "      <td>0</td>\n",
       "      <td>0</td>\n",
       "      <td>0</td>\n",
       "      <td>0</td>\n",
       "      <td>1</td>\n",
       "      <td>1</td>\n",
       "      <td>0</td>\n",
       "      <td>0</td>\n",
       "    </tr>\n",
       "    <tr>\n",
       "      <th>1</th>\n",
       "      <td>1408</td>\n",
       "      <td>705.3</td>\n",
       "      <td>1</td>\n",
       "      <td>1</td>\n",
       "      <td>43.555556</td>\n",
       "      <td>1</td>\n",
       "      <td>0</td>\n",
       "      <td>0</td>\n",
       "      <td>0</td>\n",
       "      <td>0</td>\n",
       "      <td>...</td>\n",
       "      <td>0</td>\n",
       "      <td>0</td>\n",
       "      <td>0</td>\n",
       "      <td>0</td>\n",
       "      <td>0</td>\n",
       "      <td>0</td>\n",
       "      <td>1</td>\n",
       "      <td>1</td>\n",
       "      <td>0</td>\n",
       "      <td>0</td>\n",
       "    </tr>\n",
       "  </tbody>\n",
       "</table>\n",
       "<p>2 rows × 28 columns</p>\n",
       "</div>"
      ],
      "text/plain": [
       "    RPM  Fuel consumption  Failure  Age  Temperature_value  Color_Black  \\\n",
       "0  1551             659.7        0    1          43.500000            0   \n",
       "1  1408             705.3        1    1          43.555556            1   \n",
       "\n",
       "   Color_Blue  Color_Grey  Color_Red  Color_White  ...  Model_num_Model 7  \\\n",
       "0           1           0          0            0  ...                  0   \n",
       "1           0           0          0            0  ...                  0   \n",
       "\n",
       "   Factory_City_Bedok  Factory_City_Berlin  Factory_City_New York  \\\n",
       "0                   0                    0                      0   \n",
       "1                   0                    0                      0   \n",
       "\n",
       "   Factory_City_Newton  Factory_City_Seng Kang  Factory_City_Shang Hai  \\\n",
       "0                    0                       0                       1   \n",
       "1                    0                       0                       1   \n",
       "\n",
       "   Factory_Country_ China  Factory_Country_ Germany  Factory_Country_ U.S  \n",
       "0                       1                         0                     0  \n",
       "1                       1                         0                     0  \n",
       "\n",
       "[2 rows x 28 columns]"
      ]
     },
     "execution_count": 48,
     "metadata": {},
     "output_type": "execute_result"
    }
   ],
   "source": [
    "#Dummy Encode all the categorical features \n",
    "#so that they can be processed by the model algorithms\n",
    "\n",
    "df = pd.get_dummies(df,columns=categorical_vars)\n",
    "df.head(2)"
   ]
  },
  {
   "cell_type": "code",
   "execution_count": 49,
   "id": "s6MTDnCajRDj",
   "metadata": {
    "colab": {
     "base_uri": "https://localhost:8080/"
    },
    "id": "s6MTDnCajRDj",
    "outputId": "1cb96b08-4e9d-4d31-886d-a397cc6ca4d9"
   },
   "outputs": [
    {
     "data": {
      "text/plain": [
       "RPM                           int64\n",
       "Fuel consumption            float64\n",
       "Failure                       int64\n",
       "Age                           int32\n",
       "Temperature_value           float64\n",
       "Color_Black                   uint8\n",
       "Color_Blue                    uint8\n",
       "Color_Grey                    uint8\n",
       "Color_Red                     uint8\n",
       "Color_White                   uint8\n",
       "Usage_High                    uint8\n",
       "Usage_Low                     uint8\n",
       "Usage_Medium                  uint8\n",
       "Membership_None               uint8\n",
       "Membership_Normal             uint8\n",
       "Membership_Premium            uint8\n",
       "Model_num_Model 3             uint8\n",
       "Model_num_Model 5             uint8\n",
       "Model_num_Model 7             uint8\n",
       "Factory_City_Bedok            uint8\n",
       "Factory_City_Berlin           uint8\n",
       "Factory_City_New York         uint8\n",
       "Factory_City_Newton           uint8\n",
       "Factory_City_Seng Kang        uint8\n",
       "Factory_City_Shang Hai        uint8\n",
       "Factory_Country_ China        uint8\n",
       "Factory_Country_ Germany      uint8\n",
       "Factory_Country_ U.S          uint8\n",
       "dtype: object"
      ]
     },
     "execution_count": 49,
     "metadata": {},
     "output_type": "execute_result"
    }
   ],
   "source": [
    "df.dtypes"
   ]
  },
  {
   "cell_type": "code",
   "execution_count": 50,
   "id": "63hf88xFyu-i",
   "metadata": {
    "colab": {
     "base_uri": "https://localhost:8080/"
    },
    "id": "63hf88xFyu-i",
    "outputId": "5bff5ad9-4208-4af3-e91b-6a8b6ead4575"
   },
   "outputs": [
    {
     "name": "stdout",
     "output_type": "stream",
     "text": [
      "Failure                     1.000000\n",
      "Factory_City_Seng Kang      0.271279\n",
      "Membership_None             0.190149\n",
      "Factory_City_Newton         0.174239\n",
      "Factory_City_Bedok          0.143772\n",
      "Usage_High                  0.106223\n",
      "Fuel consumption            0.086386\n",
      "Age                         0.052092\n",
      "Model_num_Model 3           0.030262\n",
      "Factory_Country_ China      0.023378\n",
      "Color_Grey                  0.012701\n",
      "Usage_Medium                0.006364\n",
      "Color_Black                 0.002918\n",
      "Color_Red                   0.002331\n",
      "Temperature_value           0.001607\n",
      "RPM                         0.001126\n",
      "Model_num_Model 7           0.000306\n",
      "Color_White                -0.000901\n",
      "Factory_Country_ Germany   -0.002535\n",
      "Color_Blue                 -0.016267\n",
      "Membership_Normal          -0.018767\n",
      "Factory_City_Berlin        -0.021406\n",
      "Factory_City_New York      -0.025732\n",
      "Factory_Country_ U.S       -0.025732\n",
      "Model_num_Model 5          -0.032567\n",
      "Factory_City_Shang Hai     -0.055366\n",
      "Usage_Low                  -0.115879\n",
      "Membership_Premium         -0.131513\n",
      "Name: Failure, dtype: float64\n"
     ]
    }
   ],
   "source": [
    "# Since all values are numeric, do a correlation and sort to determine\n",
    "# the most important features relative to Survived\n",
    "corr = df.corr()\n",
    "corr.sort_values([\"Failure\"], ascending = False, inplace = True)\n",
    "print(corr.Failure)"
   ]
  },
  {
   "cell_type": "markdown",
   "id": "ElTKkPMEba-_",
   "metadata": {
    "id": "ElTKkPMEba-_"
   },
   "source": [
    "### Observations/Conclusions:\n",
    "\n",
    "(1) 3 Features with correlation almost close to 0 (-0.01< correlation <0.01) can be dropped.\n",
    "\n",
    "(a) Color \n",
    "\n",
    "(b) RPM\n",
    "\n",
    "(c) Temperature_value\n",
    "\n",
    "\n",
    "### Interpretation and Impact :\n",
    "Hence, we will do the modelling using these 7 features:\n",
    "\n",
    "(1) Model Number\n",
    "\n",
    "(2) Usage\n",
    "\n",
    "(3) Fuel consumption\n",
    "\n",
    "(4) Memebership\n",
    "\n",
    "(5) Age\n",
    "\n",
    "(6) Factory_City\n",
    "\n",
    "(7) Factory_Country"
   ]
  },
  {
   "cell_type": "code",
   "execution_count": null,
   "id": "d2967d0d",
   "metadata": {},
   "outputs": [],
   "source": []
  },
  {
   "cell_type": "code",
   "execution_count": null,
   "id": "0b94ef88",
   "metadata": {},
   "outputs": [],
   "source": []
  },
  {
   "cell_type": "code",
   "execution_count": null,
   "id": "11809ad4",
   "metadata": {},
   "outputs": [],
   "source": []
  }
 ],
 "metadata": {
  "colab": {
   "provenance": []
  },
  "kernelspec": {
   "display_name": "Python 3 (ipykernel)",
   "language": "python",
   "name": "python3"
  },
  "language_info": {
   "codemirror_mode": {
    "name": "ipython",
    "version": 3
   },
   "file_extension": ".py",
   "mimetype": "text/x-python",
   "name": "python",
   "nbconvert_exporter": "python",
   "pygments_lexer": "ipython3",
   "version": "3.9.12"
  }
 },
 "nbformat": 4,
 "nbformat_minor": 5
}
